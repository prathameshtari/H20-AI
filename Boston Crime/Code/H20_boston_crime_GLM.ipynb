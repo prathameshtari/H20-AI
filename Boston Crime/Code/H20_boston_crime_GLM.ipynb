{
 "cells": [
  {
   "cell_type": "code",
   "execution_count": 50,
   "metadata": {
    "collapsed": true
   },
   "outputs": [],
   "source": [
    "import h2o\n",
    "import pandas as pd"
   ]
  },
  {
   "cell_type": "code",
   "execution_count": 51,
   "metadata": {},
   "outputs": [
    {
     "name": "stdout",
     "output_type": "stream",
     "text": [
      "Checking whether there is an H2O instance running at http://localhost:54321. connected.\n"
     ]
    },
    {
     "data": {
      "text/html": [
       "<div style=\"overflow:auto\"><table style=\"width:50%\"><tr><td>H2O cluster uptime:</td>\n",
       "<td>1 hour 16 mins</td></tr>\n",
       "<tr><td>H2O cluster timezone:</td>\n",
       "<td>America/New_York</td></tr>\n",
       "<tr><td>H2O data parsing timezone:</td>\n",
       "<td>UTC</td></tr>\n",
       "<tr><td>H2O cluster version:</td>\n",
       "<td>3.20.0.8</td></tr>\n",
       "<tr><td>H2O cluster version age:</td>\n",
       "<td>22 days </td></tr>\n",
       "<tr><td>H2O cluster name:</td>\n",
       "<td>H2O_from_python_ptari_1lflev</td></tr>\n",
       "<tr><td>H2O cluster total nodes:</td>\n",
       "<td>1</td></tr>\n",
       "<tr><td>H2O cluster free memory:</td>\n",
       "<td>3.393 Gb</td></tr>\n",
       "<tr><td>H2O cluster total cores:</td>\n",
       "<td>4</td></tr>\n",
       "<tr><td>H2O cluster allowed cores:</td>\n",
       "<td>4</td></tr>\n",
       "<tr><td>H2O cluster status:</td>\n",
       "<td>locked, healthy</td></tr>\n",
       "<tr><td>H2O connection url:</td>\n",
       "<td>http://localhost:54321</td></tr>\n",
       "<tr><td>H2O connection proxy:</td>\n",
       "<td>None</td></tr>\n",
       "<tr><td>H2O internal security:</td>\n",
       "<td>False</td></tr>\n",
       "<tr><td>H2O API Extensions:</td>\n",
       "<td>Algos, AutoML, Core V3, Core V4</td></tr>\n",
       "<tr><td>Python version:</td>\n",
       "<td>3.6.1 final</td></tr></table></div>"
      ],
      "text/plain": [
       "--------------------------  -------------------------------\n",
       "H2O cluster uptime:         1 hour 16 mins\n",
       "H2O cluster timezone:       America/New_York\n",
       "H2O data parsing timezone:  UTC\n",
       "H2O cluster version:        3.20.0.8\n",
       "H2O cluster version age:    22 days\n",
       "H2O cluster name:           H2O_from_python_ptari_1lflev\n",
       "H2O cluster total nodes:    1\n",
       "H2O cluster free memory:    3.393 Gb\n",
       "H2O cluster total cores:    4\n",
       "H2O cluster allowed cores:  4\n",
       "H2O cluster status:         locked, healthy\n",
       "H2O connection url:         http://localhost:54321\n",
       "H2O connection proxy:\n",
       "H2O internal security:      False\n",
       "H2O API Extensions:         Algos, AutoML, Core V3, Core V4\n",
       "Python version:             3.6.1 final\n",
       "--------------------------  -------------------------------"
      ]
     },
     "metadata": {},
     "output_type": "display_data"
    }
   ],
   "source": [
    "h2o.init()"
   ]
  },
  {
   "cell_type": "code",
   "execution_count": 52,
   "metadata": {
    "collapsed": true
   },
   "outputs": [],
   "source": [
    "path= 'C:\\\\Users\\\\ptari\\\\Desktop\\\\INFO 7245\\\\Assignment_2\\\\crime\\\\crime.csv'"
   ]
  },
  {
   "cell_type": "code",
   "execution_count": 53,
   "metadata": {},
   "outputs": [
    {
     "name": "stdout",
     "output_type": "stream",
     "text": [
      "Parse progress: |█████████████████████████████████████████████████████████| 100%\n"
     ]
    },
    {
     "data": {
      "text/html": [
       "<table>\n",
       "<thead>\n",
       "<tr><th>INCIDENT_NUMBER  </th><th style=\"text-align: right;\">  OFFENSE_CODE</th><th>OFFENSE_CODE_GROUP             </th><th>OFFENSE_DESCRIPTION           </th><th>DISTRICT  </th><th style=\"text-align: right;\">  REPORTING_AREA</th><th>SHOOTING  </th><th>OCCURRED_ON_DATE   </th><th style=\"text-align: right;\">  YEAR</th><th style=\"text-align: right;\">  MONTH</th><th>DAY_OF_WEEK  </th><th style=\"text-align: right;\">  HOUR</th><th>UCR_PART  </th><th>STREET          </th><th style=\"text-align: right;\">    Lat</th><th style=\"text-align: right;\">    Long</th><th>Location                   </th></tr>\n",
       "</thead>\n",
       "<tbody>\n",
       "<tr><td>I182080058       </td><td style=\"text-align: right;\">          2403</td><td>Disorderly Conduct             </td><td>DISTURBING THE PEACE          </td><td>E18       </td><td style=\"text-align: right;\">             495</td><td>          </td><td>2018-10-03 20:13:00</td><td style=\"text-align: right;\">  2018</td><td style=\"text-align: right;\">     10</td><td>Wednesday    </td><td style=\"text-align: right;\">    20</td><td>Part Two  </td><td>ARLINGTON ST    </td><td style=\"text-align: right;\">42.2626</td><td style=\"text-align: right;\">-71.1212</td><td>(42.26260773, -71.12118637)</td></tr>\n",
       "<tr><td>I182080053       </td><td style=\"text-align: right;\">          3201</td><td>Property Lost                  </td><td>PROPERTY - LOST               </td><td>D14       </td><td style=\"text-align: right;\">             795</td><td>          </td><td>2018-08-30 20:00:00</td><td style=\"text-align: right;\">  2018</td><td style=\"text-align: right;\">      8</td><td>Thursday     </td><td style=\"text-align: right;\">    20</td><td>Part Three</td><td>ALLSTON ST      </td><td style=\"text-align: right;\">42.3521</td><td style=\"text-align: right;\">-71.1353</td><td>(42.35211146, -71.13531147)</td></tr>\n",
       "<tr><td>I182080052       </td><td style=\"text-align: right;\">          2647</td><td>Other                          </td><td>THREATS TO DO BODILY HARM     </td><td>B2        </td><td style=\"text-align: right;\">             329</td><td>          </td><td>2018-10-03 19:20:00</td><td style=\"text-align: right;\">  2018</td><td style=\"text-align: right;\">     10</td><td>Wednesday    </td><td style=\"text-align: right;\">    19</td><td>Part Two  </td><td>DEVON ST        </td><td style=\"text-align: right;\">42.3081</td><td style=\"text-align: right;\">-71.0769</td><td>(42.30812619, -71.07692974)</td></tr>\n",
       "<tr><td>I182080051       </td><td style=\"text-align: right;\">           413</td><td>Aggravated Assault             </td><td>ASSAULT - AGGRAVATED - BATTERY</td><td>A1        </td><td style=\"text-align: right;\">              92</td><td>          </td><td>2018-10-03 20:00:00</td><td style=\"text-align: right;\">  2018</td><td style=\"text-align: right;\">     10</td><td>Wednesday    </td><td style=\"text-align: right;\">    20</td><td>Part One  </td><td>CAMBRIDGE ST    </td><td style=\"text-align: right;\">42.3595</td><td style=\"text-align: right;\">-71.0596</td><td>(42.35945371, -71.05964817)</td></tr>\n",
       "<tr><td>I182080050       </td><td style=\"text-align: right;\">          3122</td><td>Aircraft                       </td><td>AIRCRAFT INCIDENTS            </td><td>A7        </td><td style=\"text-align: right;\">              36</td><td>          </td><td>2018-10-03 20:49:00</td><td style=\"text-align: right;\">  2018</td><td style=\"text-align: right;\">     10</td><td>Wednesday    </td><td style=\"text-align: right;\">    20</td><td>Part Three</td><td>PRESCOTT ST     </td><td style=\"text-align: right;\">42.3753</td><td style=\"text-align: right;\">-71.0247</td><td>(42.37525782, -71.02466343)</td></tr>\n",
       "<tr><td>I182080049       </td><td style=\"text-align: right;\">          1402</td><td>Vandalism                      </td><td>VANDALISM                     </td><td>C11       </td><td style=\"text-align: right;\">             351</td><td>          </td><td>2018-10-02 20:40:00</td><td style=\"text-align: right;\">  2018</td><td style=\"text-align: right;\">     10</td><td>Tuesday      </td><td style=\"text-align: right;\">    20</td><td>Part Two  </td><td>DORCHESTER AVE  </td><td style=\"text-align: right;\">42.2992</td><td style=\"text-align: right;\">-71.0605</td><td>(42.29919694, -71.06046974)</td></tr>\n",
       "<tr><td>I182080048       </td><td style=\"text-align: right;\">          3803</td><td>Motor Vehicle Accident Response</td><td>M/V ACCIDENT - PERSONAL INJURY</td><td>          </td><td style=\"text-align: right;\">             nan</td><td>          </td><td>2018-10-03 20:16:00</td><td style=\"text-align: right;\">  2018</td><td style=\"text-align: right;\">     10</td><td>Wednesday    </td><td style=\"text-align: right;\">    20</td><td>Part Three</td><td>                </td><td style=\"text-align: right;\">42.3207</td><td style=\"text-align: right;\">-71.0568</td><td>(42.32073413, -71.05676415)</td></tr>\n",
       "<tr><td>I182080047       </td><td style=\"text-align: right;\">          3301</td><td>Verbal Disputes                </td><td>VERBAL DISPUTE                </td><td>B2        </td><td style=\"text-align: right;\">             603</td><td>          </td><td>2018-10-03 19:32:00</td><td style=\"text-align: right;\">  2018</td><td style=\"text-align: right;\">     10</td><td>Wednesday    </td><td style=\"text-align: right;\">    19</td><td>Part Three</td><td>TREMONT ST      </td><td style=\"text-align: right;\">42.3338</td><td style=\"text-align: right;\">-71.1038</td><td>(42.33380683, -71.10377843)</td></tr>\n",
       "<tr><td>I182080045       </td><td style=\"text-align: right;\">           802</td><td>Simple Assault                 </td><td>ASSAULT SIMPLE - BATTERY      </td><td>E18       </td><td style=\"text-align: right;\">             543</td><td>          </td><td>2018-10-03 19:27:51</td><td style=\"text-align: right;\">  2018</td><td style=\"text-align: right;\">     10</td><td>Wednesday    </td><td style=\"text-align: right;\">    19</td><td>Part Two  </td><td>AVILA RD        </td><td style=\"text-align: right;\">42.2561</td><td style=\"text-align: right;\">-71.128 </td><td>(42.25614494, -71.12802506)</td></tr>\n",
       "<tr><td>I182080044       </td><td style=\"text-align: right;\">          3410</td><td>Towed                          </td><td>TOWED MOTOR VEHICLE           </td><td>D4        </td><td style=\"text-align: right;\">             621</td><td>          </td><td>2018-10-03 20:00:00</td><td style=\"text-align: right;\">  2018</td><td style=\"text-align: right;\">     10</td><td>Wednesday    </td><td style=\"text-align: right;\">    20</td><td>Part Three</td><td>COMMONWEALTH AVE</td><td style=\"text-align: right;\">42.3489</td><td style=\"text-align: right;\">-71.0894</td><td>(42.34886600, -71.08936284)</td></tr>\n",
       "</tbody>\n",
       "</table>"
      ]
     },
     "metadata": {},
     "output_type": "display_data"
    },
    {
     "data": {
      "text/plain": []
     },
     "execution_count": 53,
     "metadata": {},
     "output_type": "execute_result"
    }
   ],
   "source": [
    "df = h2o.import_file(path=path)\n",
    "df"
   ]
  },
  {
   "cell_type": "code",
   "execution_count": 45,
   "metadata": {},
   "outputs": [
    {
     "data": {
      "text/plain": [
       "(327820, 17)"
      ]
     },
     "execution_count": 45,
     "metadata": {},
     "output_type": "execute_result"
    }
   ],
   "source": [
    "df.shape"
   ]
  },
  {
   "cell_type": "code",
   "execution_count": 46,
   "metadata": {},
   "outputs": [
    {
     "data": {
      "text/plain": [
       "['INCIDENT_NUMBER',\n",
       " 'OFFENSE_CODE',\n",
       " 'OFFENSE_CODE_GROUP',\n",
       " 'OFFENSE_DESCRIPTION',\n",
       " 'DISTRICT',\n",
       " 'REPORTING_AREA',\n",
       " 'SHOOTING',\n",
       " 'OCCURRED_ON_DATE',\n",
       " 'YEAR',\n",
       " 'MONTH',\n",
       " 'DAY_OF_WEEK',\n",
       " 'HOUR',\n",
       " 'UCR_PART',\n",
       " 'STREET',\n",
       " 'Lat',\n",
       " 'Long',\n",
       " 'Location']"
      ]
     },
     "execution_count": 46,
     "metadata": {},
     "output_type": "execute_result"
    }
   ],
   "source": [
    "df.columns"
   ]
  },
  {
   "cell_type": "code",
   "execution_count": 47,
   "metadata": {},
   "outputs": [
    {
     "data": {
      "text/html": [
       "<table>\n",
       "<thead>\n",
       "<tr><th style=\"text-align: right;\">  isNA(INCIDENT_NUMBER)</th><th style=\"text-align: right;\">  isNA(OFFENSE_CODE)</th><th style=\"text-align: right;\">  isNA(OFFENSE_CODE_GROUP)</th><th style=\"text-align: right;\">  isNA(OFFENSE_DESCRIPTION)</th><th style=\"text-align: right;\">  isNA(DISTRICT)</th><th style=\"text-align: right;\">  isNA(REPORTING_AREA)</th><th style=\"text-align: right;\">  isNA(SHOOTING)</th><th style=\"text-align: right;\">  isNA(OCCURRED_ON_DATE)</th><th style=\"text-align: right;\">  isNA(YEAR)</th><th style=\"text-align: right;\">  isNA(MONTH)</th><th style=\"text-align: right;\">  isNA(DAY_OF_WEEK)</th><th style=\"text-align: right;\">  isNA(HOUR)</th><th style=\"text-align: right;\">  isNA(UCR_PART)</th><th style=\"text-align: right;\">  isNA(STREET)</th><th style=\"text-align: right;\">  isNA(Lat)</th><th style=\"text-align: right;\">  isNA(Long)</th><th style=\"text-align: right;\">  isNA(Location)</th></tr>\n",
       "</thead>\n",
       "<tbody>\n",
       "<tr><td style=\"text-align: right;\">                      0</td><td style=\"text-align: right;\">                   0</td><td style=\"text-align: right;\">                         0</td><td style=\"text-align: right;\">                          0</td><td style=\"text-align: right;\">               0</td><td style=\"text-align: right;\">                     0</td><td style=\"text-align: right;\">               1</td><td style=\"text-align: right;\">                       0</td><td style=\"text-align: right;\">           0</td><td style=\"text-align: right;\">            0</td><td style=\"text-align: right;\">                  0</td><td style=\"text-align: right;\">           0</td><td style=\"text-align: right;\">               0</td><td style=\"text-align: right;\">             0</td><td style=\"text-align: right;\">          0</td><td style=\"text-align: right;\">           0</td><td style=\"text-align: right;\">               0</td></tr>\n",
       "<tr><td style=\"text-align: right;\">                      0</td><td style=\"text-align: right;\">                   0</td><td style=\"text-align: right;\">                         0</td><td style=\"text-align: right;\">                          0</td><td style=\"text-align: right;\">               0</td><td style=\"text-align: right;\">                     0</td><td style=\"text-align: right;\">               1</td><td style=\"text-align: right;\">                       0</td><td style=\"text-align: right;\">           0</td><td style=\"text-align: right;\">            0</td><td style=\"text-align: right;\">                  0</td><td style=\"text-align: right;\">           0</td><td style=\"text-align: right;\">               0</td><td style=\"text-align: right;\">             0</td><td style=\"text-align: right;\">          0</td><td style=\"text-align: right;\">           0</td><td style=\"text-align: right;\">               0</td></tr>\n",
       "<tr><td style=\"text-align: right;\">                      0</td><td style=\"text-align: right;\">                   0</td><td style=\"text-align: right;\">                         0</td><td style=\"text-align: right;\">                          0</td><td style=\"text-align: right;\">               0</td><td style=\"text-align: right;\">                     0</td><td style=\"text-align: right;\">               1</td><td style=\"text-align: right;\">                       0</td><td style=\"text-align: right;\">           0</td><td style=\"text-align: right;\">            0</td><td style=\"text-align: right;\">                  0</td><td style=\"text-align: right;\">           0</td><td style=\"text-align: right;\">               0</td><td style=\"text-align: right;\">             0</td><td style=\"text-align: right;\">          0</td><td style=\"text-align: right;\">           0</td><td style=\"text-align: right;\">               0</td></tr>\n",
       "<tr><td style=\"text-align: right;\">                      0</td><td style=\"text-align: right;\">                   0</td><td style=\"text-align: right;\">                         0</td><td style=\"text-align: right;\">                          0</td><td style=\"text-align: right;\">               0</td><td style=\"text-align: right;\">                     0</td><td style=\"text-align: right;\">               1</td><td style=\"text-align: right;\">                       0</td><td style=\"text-align: right;\">           0</td><td style=\"text-align: right;\">            0</td><td style=\"text-align: right;\">                  0</td><td style=\"text-align: right;\">           0</td><td style=\"text-align: right;\">               0</td><td style=\"text-align: right;\">             0</td><td style=\"text-align: right;\">          0</td><td style=\"text-align: right;\">           0</td><td style=\"text-align: right;\">               0</td></tr>\n",
       "<tr><td style=\"text-align: right;\">                      0</td><td style=\"text-align: right;\">                   0</td><td style=\"text-align: right;\">                         0</td><td style=\"text-align: right;\">                          0</td><td style=\"text-align: right;\">               0</td><td style=\"text-align: right;\">                     0</td><td style=\"text-align: right;\">               1</td><td style=\"text-align: right;\">                       0</td><td style=\"text-align: right;\">           0</td><td style=\"text-align: right;\">            0</td><td style=\"text-align: right;\">                  0</td><td style=\"text-align: right;\">           0</td><td style=\"text-align: right;\">               0</td><td style=\"text-align: right;\">             0</td><td style=\"text-align: right;\">          0</td><td style=\"text-align: right;\">           0</td><td style=\"text-align: right;\">               0</td></tr>\n",
       "<tr><td style=\"text-align: right;\">                      0</td><td style=\"text-align: right;\">                   0</td><td style=\"text-align: right;\">                         0</td><td style=\"text-align: right;\">                          0</td><td style=\"text-align: right;\">               0</td><td style=\"text-align: right;\">                     0</td><td style=\"text-align: right;\">               1</td><td style=\"text-align: right;\">                       0</td><td style=\"text-align: right;\">           0</td><td style=\"text-align: right;\">            0</td><td style=\"text-align: right;\">                  0</td><td style=\"text-align: right;\">           0</td><td style=\"text-align: right;\">               0</td><td style=\"text-align: right;\">             0</td><td style=\"text-align: right;\">          0</td><td style=\"text-align: right;\">           0</td><td style=\"text-align: right;\">               0</td></tr>\n",
       "<tr><td style=\"text-align: right;\">                      0</td><td style=\"text-align: right;\">                   0</td><td style=\"text-align: right;\">                         0</td><td style=\"text-align: right;\">                          0</td><td style=\"text-align: right;\">               1</td><td style=\"text-align: right;\">                     1</td><td style=\"text-align: right;\">               1</td><td style=\"text-align: right;\">                       0</td><td style=\"text-align: right;\">           0</td><td style=\"text-align: right;\">            0</td><td style=\"text-align: right;\">                  0</td><td style=\"text-align: right;\">           0</td><td style=\"text-align: right;\">               0</td><td style=\"text-align: right;\">             1</td><td style=\"text-align: right;\">          0</td><td style=\"text-align: right;\">           0</td><td style=\"text-align: right;\">               0</td></tr>\n",
       "<tr><td style=\"text-align: right;\">                      0</td><td style=\"text-align: right;\">                   0</td><td style=\"text-align: right;\">                         0</td><td style=\"text-align: right;\">                          0</td><td style=\"text-align: right;\">               0</td><td style=\"text-align: right;\">                     0</td><td style=\"text-align: right;\">               1</td><td style=\"text-align: right;\">                       0</td><td style=\"text-align: right;\">           0</td><td style=\"text-align: right;\">            0</td><td style=\"text-align: right;\">                  0</td><td style=\"text-align: right;\">           0</td><td style=\"text-align: right;\">               0</td><td style=\"text-align: right;\">             0</td><td style=\"text-align: right;\">          0</td><td style=\"text-align: right;\">           0</td><td style=\"text-align: right;\">               0</td></tr>\n",
       "<tr><td style=\"text-align: right;\">                      0</td><td style=\"text-align: right;\">                   0</td><td style=\"text-align: right;\">                         0</td><td style=\"text-align: right;\">                          0</td><td style=\"text-align: right;\">               0</td><td style=\"text-align: right;\">                     0</td><td style=\"text-align: right;\">               1</td><td style=\"text-align: right;\">                       0</td><td style=\"text-align: right;\">           0</td><td style=\"text-align: right;\">            0</td><td style=\"text-align: right;\">                  0</td><td style=\"text-align: right;\">           0</td><td style=\"text-align: right;\">               0</td><td style=\"text-align: right;\">             0</td><td style=\"text-align: right;\">          0</td><td style=\"text-align: right;\">           0</td><td style=\"text-align: right;\">               0</td></tr>\n",
       "<tr><td style=\"text-align: right;\">                      0</td><td style=\"text-align: right;\">                   0</td><td style=\"text-align: right;\">                         0</td><td style=\"text-align: right;\">                          0</td><td style=\"text-align: right;\">               0</td><td style=\"text-align: right;\">                     0</td><td style=\"text-align: right;\">               1</td><td style=\"text-align: right;\">                       0</td><td style=\"text-align: right;\">           0</td><td style=\"text-align: right;\">            0</td><td style=\"text-align: right;\">                  0</td><td style=\"text-align: right;\">           0</td><td style=\"text-align: right;\">               0</td><td style=\"text-align: right;\">             0</td><td style=\"text-align: right;\">          0</td><td style=\"text-align: right;\">           0</td><td style=\"text-align: right;\">               0</td></tr>\n",
       "</tbody>\n",
       "</table>"
      ]
     },
     "metadata": {},
     "output_type": "display_data"
    },
    {
     "data": {
      "text/plain": []
     },
     "execution_count": 47,
     "metadata": {},
     "output_type": "execute_result"
    }
   ],
   "source": [
    "df.isna()"
   ]
  },
  {
   "cell_type": "code",
   "execution_count": 54,
   "metadata": {},
   "outputs": [
    {
     "name": "stdout",
     "output_type": "stream",
     "text": [
      "Rows:327820\n",
      "Cols:17\n",
      "\n",
      "\n"
     ]
    },
    {
     "data": {
      "text/html": [
       "<table>\n",
       "<thead>\n",
       "<tr><th>       </th><th>INCIDENT_NUMBER  </th><th>OFFENSE_CODE      </th><th>OFFENSE_CODE_GROUP             </th><th>OFFENSE_DESCRIPTION           </th><th>DISTRICT  </th><th>REPORTING_AREA    </th><th>SHOOTING  </th><th>OCCURRED_ON_DATE   </th><th>YEAR              </th><th>MONTH            </th><th>DAY_OF_WEEK  </th><th>HOUR             </th><th>UCR_PART  </th><th>STREET          </th><th>Lat               </th><th>Long              </th><th>Location                   </th></tr>\n",
       "</thead>\n",
       "<tbody>\n",
       "<tr><td>type   </td><td>enum             </td><td>int               </td><td>enum                           </td><td>enum                          </td><td>enum      </td><td>int               </td><td>enum      </td><td>time               </td><td>int               </td><td>int              </td><td>enum         </td><td>int              </td><td>enum      </td><td>enum            </td><td>real              </td><td>real              </td><td>enum                       </td></tr>\n",
       "<tr><td>mins   </td><td>                 </td><td>111.0             </td><td>                               </td><td>                              </td><td>          </td><td>0.0               </td><td>          </td><td>1434326400000.0    </td><td>2015.0            </td><td>1.0              </td><td>             </td><td>0.0              </td><td>          </td><td>                </td><td>-1.0              </td><td>-71.17867378      </td><td>                           </td></tr>\n",
       "<tr><td>mean   </td><td>                 </td><td>2317.9611707644444</td><td>                               </td><td>                              </td><td>          </td><td>383.23826653633074</td><td>          </td><td>1486711613977.7847 </td><td>2016.5986761027393</td><td>6.672213409798054</td><td>             </td><td>13.11484046122872</td><td>          </td><td>                </td><td>42.212995057692176</td><td>-70.90603030527012</td><td>                           </td></tr>\n",
       "<tr><td>maxs   </td><td>                 </td><td>3831.0            </td><td>                               </td><td>                              </td><td>          </td><td>962.0             </td><td>          </td><td>1538599740000.0    </td><td>2018.0            </td><td>12.0             </td><td>             </td><td>23.0             </td><td>          </td><td>                </td><td>42.39504158       </td><td>-1.0              </td><td>                           </td></tr>\n",
       "<tr><td>sigma  </td><td>                 </td><td>1184.9900730331724</td><td>                               </td><td>                              </td><td>          </td><td>242.00732385223102</td><td>          </td><td>30011192084.516365 </td><td>1.0097747593327322</td><td>3.253984047059661</td><td>             </td><td>6.292714255219991</td><td>          </td><td>                </td><td>2.1734961433787325</td><td>3.515831947971616 </td><td>                           </td></tr>\n",
       "<tr><td>zeros  </td><td>                 </td><td>0                 </td><td>                               </td><td>                              </td><td>          </td><td>14                </td><td>          </td><td>0                  </td><td>0                 </td><td>0                </td><td>             </td><td>15534            </td><td>          </td><td>                </td><td>0                 </td><td>0                 </td><td>                           </td></tr>\n",
       "<tr><td>missing</td><td>0                </td><td>0                 </td><td>0                              </td><td>0                             </td><td>1774      </td><td>20920             </td><td>326765    </td><td>0                  </td><td>0                 </td><td>0                </td><td>0            </td><td>0                </td><td>93        </td><td>10977           </td><td>20632             </td><td>20632             </td><td>0                          </td></tr>\n",
       "<tr><td>0      </td><td>I182080058       </td><td>2403.0            </td><td>Disorderly Conduct             </td><td>DISTURBING THE PEACE          </td><td>E18       </td><td>495.0             </td><td>          </td><td>2018-10-03 20:13:00</td><td>2018.0            </td><td>10.0             </td><td>Wednesday    </td><td>20.0             </td><td>Part Two  </td><td>ARLINGTON ST    </td><td>42.26260773       </td><td>-71.12118637      </td><td>(42.26260773, -71.12118637)</td></tr>\n",
       "<tr><td>1      </td><td>I182080053       </td><td>3201.0            </td><td>Property Lost                  </td><td>PROPERTY - LOST               </td><td>D14       </td><td>795.0             </td><td>          </td><td>2018-08-30 20:00:00</td><td>2018.0            </td><td>8.0              </td><td>Thursday     </td><td>20.0             </td><td>Part Three</td><td>ALLSTON ST      </td><td>42.35211146       </td><td>-71.13531147      </td><td>(42.35211146, -71.13531147)</td></tr>\n",
       "<tr><td>2      </td><td>I182080052       </td><td>2647.0            </td><td>Other                          </td><td>THREATS TO DO BODILY HARM     </td><td>B2        </td><td>329.0             </td><td>          </td><td>2018-10-03 19:20:00</td><td>2018.0            </td><td>10.0             </td><td>Wednesday    </td><td>19.0             </td><td>Part Two  </td><td>DEVON ST        </td><td>42.30812619       </td><td>-71.07692974      </td><td>(42.30812619, -71.07692974)</td></tr>\n",
       "<tr><td>3      </td><td>I182080051       </td><td>413.0             </td><td>Aggravated Assault             </td><td>ASSAULT - AGGRAVATED - BATTERY</td><td>A1        </td><td>92.0              </td><td>          </td><td>2018-10-03 20:00:00</td><td>2018.0            </td><td>10.0             </td><td>Wednesday    </td><td>20.0             </td><td>Part One  </td><td>CAMBRIDGE ST    </td><td>42.35945371       </td><td>-71.05964817      </td><td>(42.35945371, -71.05964817)</td></tr>\n",
       "<tr><td>4      </td><td>I182080050       </td><td>3122.0            </td><td>Aircraft                       </td><td>AIRCRAFT INCIDENTS            </td><td>A7        </td><td>36.0              </td><td>          </td><td>2018-10-03 20:49:00</td><td>2018.0            </td><td>10.0             </td><td>Wednesday    </td><td>20.0             </td><td>Part Three</td><td>PRESCOTT ST     </td><td>42.37525782       </td><td>-71.02466343      </td><td>(42.37525782, -71.02466343)</td></tr>\n",
       "<tr><td>5      </td><td>I182080049       </td><td>1402.0            </td><td>Vandalism                      </td><td>VANDALISM                     </td><td>C11       </td><td>351.0             </td><td>          </td><td>2018-10-02 20:40:00</td><td>2018.0            </td><td>10.0             </td><td>Tuesday      </td><td>20.0             </td><td>Part Two  </td><td>DORCHESTER AVE  </td><td>42.29919694       </td><td>-71.06046974      </td><td>(42.29919694, -71.06046974)</td></tr>\n",
       "<tr><td>6      </td><td>I182080048       </td><td>3803.0            </td><td>Motor Vehicle Accident Response</td><td>M/V ACCIDENT - PERSONAL INJURY</td><td>          </td><td>nan               </td><td>          </td><td>2018-10-03 20:16:00</td><td>2018.0            </td><td>10.0             </td><td>Wednesday    </td><td>20.0             </td><td>Part Three</td><td>                </td><td>42.32073413       </td><td>-71.05676415      </td><td>(42.32073413, -71.05676415)</td></tr>\n",
       "<tr><td>7      </td><td>I182080047       </td><td>3301.0            </td><td>Verbal Disputes                </td><td>VERBAL DISPUTE                </td><td>B2        </td><td>603.0             </td><td>          </td><td>2018-10-03 19:32:00</td><td>2018.0            </td><td>10.0             </td><td>Wednesday    </td><td>19.0             </td><td>Part Three</td><td>TREMONT ST      </td><td>42.33380683       </td><td>-71.10377843      </td><td>(42.33380683, -71.10377843)</td></tr>\n",
       "<tr><td>8      </td><td>I182080045       </td><td>802.0             </td><td>Simple Assault                 </td><td>ASSAULT SIMPLE - BATTERY      </td><td>E18       </td><td>543.0             </td><td>          </td><td>2018-10-03 19:27:51</td><td>2018.0            </td><td>10.0             </td><td>Wednesday    </td><td>19.0             </td><td>Part Two  </td><td>AVILA RD        </td><td>42.25614494       </td><td>-71.12802506      </td><td>(42.25614494, -71.12802506)</td></tr>\n",
       "<tr><td>9      </td><td>I182080044       </td><td>3410.0            </td><td>Towed                          </td><td>TOWED MOTOR VEHICLE           </td><td>D4        </td><td>621.0             </td><td>          </td><td>2018-10-03 20:00:00</td><td>2018.0            </td><td>10.0             </td><td>Wednesday    </td><td>20.0             </td><td>Part Three</td><td>COMMONWEALTH AVE</td><td>42.348866         </td><td>-71.08936284      </td><td>(42.34886600, -71.08936284)</td></tr>\n",
       "</tbody>\n",
       "</table>"
      ]
     },
     "metadata": {},
     "output_type": "display_data"
    }
   ],
   "source": [
    "df.describe()\n",
    "df_back=df"
   ]
  },
  {
   "cell_type": "code",
   "execution_count": 55,
   "metadata": {},
   "outputs": [
    {
     "data": {
      "text/html": [
       "<table>\n",
       "<thead>\n",
       "<tr><th style=\"text-align: right;\">  OFFENSE_CODE</th><th>OFFENSE_CODE_GROUP  </th><th>OFFENSE_DESCRIPTION                           </th><th>DISTRICT  </th><th style=\"text-align: right;\">  REPORTING_AREA</th><th>SHOOTING  </th><th>OCCURRED_ON_DATE   </th><th style=\"text-align: right;\">  YEAR</th><th style=\"text-align: right;\">  MONTH</th><th>DAY_OF_WEEK  </th><th style=\"text-align: right;\">  HOUR</th><th>UCR_PART  </th><th>STREET           </th><th style=\"text-align: right;\">    Lat</th><th style=\"text-align: right;\">    Long</th><th>Location                   </th></tr>\n",
       "</thead>\n",
       "<tbody>\n",
       "<tr><td style=\"text-align: right;\">          3125</td><td>Warrant Arrests     </td><td>WARRANT ARREST                                </td><td>A1        </td><td style=\"text-align: right;\">             111</td><td>          </td><td>2015-08-12 12:00:00</td><td style=\"text-align: right;\">  2015</td><td style=\"text-align: right;\">      8</td><td>Wednesday    </td><td style=\"text-align: right;\">    12</td><td>Part Three</td><td>BOYLSTON ST      </td><td style=\"text-align: right;\">42.3523</td><td style=\"text-align: right;\">-71.0637</td><td>(42.35231190, -71.06370510)</td></tr>\n",
       "<tr><td style=\"text-align: right;\">          1848</td><td>Drug Violation      </td><td>DRUGS - POSS CLASS B - INTENT TO MFR DIST DISP</td><td>A1        </td><td style=\"text-align: right;\">             111</td><td>          </td><td>2015-08-12 12:00:00</td><td style=\"text-align: right;\">  2015</td><td style=\"text-align: right;\">      8</td><td>Wednesday    </td><td style=\"text-align: right;\">    12</td><td>Part Two  </td><td>BOYLSTON ST      </td><td style=\"text-align: right;\">42.3523</td><td style=\"text-align: right;\">-71.0637</td><td>(42.35231190, -71.06370510)</td></tr>\n",
       "<tr><td style=\"text-align: right;\">          1849</td><td>Drug Violation      </td><td>DRUGS - POSS CLASS B - COCAINE, ETC.          </td><td>A1        </td><td style=\"text-align: right;\">             111</td><td>          </td><td>2015-08-12 12:00:00</td><td style=\"text-align: right;\">  2015</td><td style=\"text-align: right;\">      8</td><td>Wednesday    </td><td style=\"text-align: right;\">    12</td><td>Part Two  </td><td>BOYLSTON ST      </td><td style=\"text-align: right;\">42.3523</td><td style=\"text-align: right;\">-71.0637</td><td>(42.35231190, -71.06370510)</td></tr>\n",
       "<tr><td style=\"text-align: right;\">          1864</td><td>Drug Violation      </td><td>DRUGS - POSS CLASS D - INTENT MFR DIST DISP   </td><td>E13       </td><td style=\"text-align: right;\">             912</td><td>          </td><td>2018-01-27 14:01:00</td><td style=\"text-align: right;\">  2018</td><td style=\"text-align: right;\">      1</td><td>Saturday     </td><td style=\"text-align: right;\">    14</td><td>Part Two  </td><td>CENTRE ST        </td><td style=\"text-align: right;\">42.3228</td><td style=\"text-align: right;\">-71.101 </td><td>(42.32283759, -71.10096723)</td></tr>\n",
       "<tr><td style=\"text-align: right;\">          3125</td><td>Warrant Arrests     </td><td>WARRANT ARREST                                </td><td>E13       </td><td style=\"text-align: right;\">             912</td><td>          </td><td>2018-01-27 14:01:00</td><td style=\"text-align: right;\">  2018</td><td style=\"text-align: right;\">      1</td><td>Saturday     </td><td style=\"text-align: right;\">    14</td><td>Part Three</td><td>CENTRE ST        </td><td style=\"text-align: right;\">42.3228</td><td style=\"text-align: right;\">-71.101 </td><td>(42.32283759, -71.10096723)</td></tr>\n",
       "<tr><td style=\"text-align: right;\">          3125</td><td>Warrant Arrests     </td><td>WARRANT ARREST                                </td><td>D4        </td><td style=\"text-align: right;\">             285</td><td>          </td><td>2016-06-05 17:25:00</td><td style=\"text-align: right;\">  2016</td><td style=\"text-align: right;\">      6</td><td>Sunday       </td><td style=\"text-align: right;\">    17</td><td>Part Three</td><td>COVENTRY ST      </td><td style=\"text-align: right;\">42.337 </td><td style=\"text-align: right;\">-71.0857</td><td>(42.33695098, -71.08574813)</td></tr>\n",
       "<tr><td style=\"text-align: right;\">           111</td><td>Homicide            </td><td>MURDER, NON-NEGLIGIENT MANSLAUGHTER           </td><td>E18       </td><td style=\"text-align: right;\">             520</td><td>          </td><td>2015-07-09 13:38:00</td><td style=\"text-align: right;\">  2015</td><td style=\"text-align: right;\">      7</td><td>Thursday     </td><td style=\"text-align: right;\">    13</td><td>Part One  </td><td>RIVER ST         </td><td style=\"text-align: right;\">42.2559</td><td style=\"text-align: right;\">-71.1232</td><td>(42.25592648, -71.12317207)</td></tr>\n",
       "<tr><td style=\"text-align: right;\">          3125</td><td>Warrant Arrests     </td><td>WARRANT ARREST                                </td><td>E18       </td><td style=\"text-align: right;\">             520</td><td>          </td><td>2015-07-09 13:38:00</td><td style=\"text-align: right;\">  2015</td><td style=\"text-align: right;\">      7</td><td>Thursday     </td><td style=\"text-align: right;\">    13</td><td>Part Three</td><td>RIVER ST         </td><td style=\"text-align: right;\">42.2559</td><td style=\"text-align: right;\">-71.1232</td><td>(42.25592648, -71.12317207)</td></tr>\n",
       "<tr><td style=\"text-align: right;\">          3125</td><td>Warrant Arrests     </td><td>WARRANT ARREST                                </td><td>E13       </td><td style=\"text-align: right;\">             569</td><td>          </td><td>2016-05-31 19:35:00</td><td style=\"text-align: right;\">  2016</td><td style=\"text-align: right;\">      5</td><td>Tuesday      </td><td style=\"text-align: right;\">    19</td><td>Part Three</td><td>NEW WASHINGTON ST</td><td style=\"text-align: right;\">42.3023</td><td style=\"text-align: right;\">-71.1116</td><td>(42.30233307, -71.11156487)</td></tr>\n",
       "<tr><td style=\"text-align: right;\">          3125</td><td>Warrant Arrests     </td><td>WARRANT ARREST                                </td><td>D4        </td><td style=\"text-align: right;\">             903</td><td>          </td><td>2015-06-22 00:12:00</td><td style=\"text-align: right;\">  2015</td><td style=\"text-align: right;\">      6</td><td>Monday       </td><td style=\"text-align: right;\">     0</td><td>Part Three</td><td>WASHINGTON ST    </td><td style=\"text-align: right;\">42.3338</td><td style=\"text-align: right;\">-71.0803</td><td>(42.33383935, -71.08029038)</td></tr>\n",
       "</tbody>\n",
       "</table>"
      ]
     },
     "metadata": {},
     "output_type": "display_data"
    },
    {
     "data": {
      "text/plain": []
     },
     "execution_count": 55,
     "metadata": {},
     "output_type": "execute_result"
    }
   ],
   "source": [
    "df = df.drop('INCIDENT_NUMBER', 1)\n",
    "df.tail()"
   ]
  },
  {
   "cell_type": "markdown",
   "metadata": {},
   "source": [
    "############################################################################"
   ]
  },
  {
   "cell_type": "code",
   "execution_count": 221,
   "metadata": {},
   "outputs": [
    {
     "name": "stderr",
     "output_type": "stream",
     "text": [
      "C:\\Users\\ptari\\Anaconda3\\lib\\site-packages\\IPython\\core\\interactiveshell.py:2717: DtypeWarning: Columns (6) have mixed types. Specify dtype option on import or set low_memory=False.\n",
      "  interactivity=interactivity, compiler=compiler, result=result)\n"
     ]
    }
   ],
   "source": [
    "pd_df = pd.read_csv(\"C:/Users/ptari/Desktop/INFO 7245/Assignment_2/crime/crime.csv\", encoding='latin-1')"
   ]
  },
  {
   "cell_type": "code",
   "execution_count": 222,
   "metadata": {},
   "outputs": [
    {
     "data": {
      "text/html": [
       "<div>\n",
       "<style>\n",
       "    .dataframe thead tr:only-child th {\n",
       "        text-align: right;\n",
       "    }\n",
       "\n",
       "    .dataframe thead th {\n",
       "        text-align: left;\n",
       "    }\n",
       "\n",
       "    .dataframe tbody tr th {\n",
       "        vertical-align: top;\n",
       "    }\n",
       "</style>\n",
       "<table border=\"1\" class=\"dataframe\">\n",
       "  <thead>\n",
       "    <tr style=\"text-align: right;\">\n",
       "      <th></th>\n",
       "      <th>OFFENSE_CODE</th>\n",
       "      <th>OFFENSE_CODE_GROUP</th>\n",
       "      <th>OFFENSE_DESCRIPTION</th>\n",
       "      <th>DISTRICT</th>\n",
       "      <th>REPORTING_AREA</th>\n",
       "      <th>SHOOTING</th>\n",
       "      <th>OCCURRED_ON_DATE</th>\n",
       "      <th>YEAR</th>\n",
       "      <th>MONTH</th>\n",
       "      <th>DAY_OF_WEEK</th>\n",
       "      <th>HOUR</th>\n",
       "      <th>UCR_PART</th>\n",
       "      <th>STREET</th>\n",
       "      <th>Lat</th>\n",
       "      <th>Long</th>\n",
       "      <th>Location</th>\n",
       "    </tr>\n",
       "  </thead>\n",
       "  <tbody>\n",
       "    <tr>\n",
       "      <th>327815</th>\n",
       "      <td>3125</td>\n",
       "      <td>Warrant Arrests</td>\n",
       "      <td>WARRANT ARREST</td>\n",
       "      <td>D4</td>\n",
       "      <td>285</td>\n",
       "      <td>NaN</td>\n",
       "      <td>2016-06-05 17:25:00</td>\n",
       "      <td>2016</td>\n",
       "      <td>6</td>\n",
       "      <td>Sunday</td>\n",
       "      <td>17</td>\n",
       "      <td>Part Three</td>\n",
       "      <td>COVENTRY ST</td>\n",
       "      <td>42.336951</td>\n",
       "      <td>-71.085748</td>\n",
       "      <td>(42.33695098, -71.08574813)</td>\n",
       "    </tr>\n",
       "    <tr>\n",
       "      <th>327816</th>\n",
       "      <td>111</td>\n",
       "      <td>Homicide</td>\n",
       "      <td>MURDER, NON-NEGLIGIENT MANSLAUGHTER</td>\n",
       "      <td>E18</td>\n",
       "      <td>520</td>\n",
       "      <td>NaN</td>\n",
       "      <td>2015-07-09 13:38:00</td>\n",
       "      <td>2015</td>\n",
       "      <td>7</td>\n",
       "      <td>Thursday</td>\n",
       "      <td>13</td>\n",
       "      <td>Part One</td>\n",
       "      <td>RIVER ST</td>\n",
       "      <td>42.255926</td>\n",
       "      <td>-71.123172</td>\n",
       "      <td>(42.25592648, -71.12317207)</td>\n",
       "    </tr>\n",
       "    <tr>\n",
       "      <th>327817</th>\n",
       "      <td>3125</td>\n",
       "      <td>Warrant Arrests</td>\n",
       "      <td>WARRANT ARREST</td>\n",
       "      <td>E18</td>\n",
       "      <td>520</td>\n",
       "      <td>NaN</td>\n",
       "      <td>2015-07-09 13:38:00</td>\n",
       "      <td>2015</td>\n",
       "      <td>7</td>\n",
       "      <td>Thursday</td>\n",
       "      <td>13</td>\n",
       "      <td>Part Three</td>\n",
       "      <td>RIVER ST</td>\n",
       "      <td>42.255926</td>\n",
       "      <td>-71.123172</td>\n",
       "      <td>(42.25592648, -71.12317207)</td>\n",
       "    </tr>\n",
       "    <tr>\n",
       "      <th>327818</th>\n",
       "      <td>3125</td>\n",
       "      <td>Warrant Arrests</td>\n",
       "      <td>WARRANT ARREST</td>\n",
       "      <td>E13</td>\n",
       "      <td>569</td>\n",
       "      <td>NaN</td>\n",
       "      <td>2016-05-31 19:35:00</td>\n",
       "      <td>2016</td>\n",
       "      <td>5</td>\n",
       "      <td>Tuesday</td>\n",
       "      <td>19</td>\n",
       "      <td>Part Three</td>\n",
       "      <td>NEW WASHINGTON ST</td>\n",
       "      <td>42.302333</td>\n",
       "      <td>-71.111565</td>\n",
       "      <td>(42.30233307, -71.11156487)</td>\n",
       "    </tr>\n",
       "    <tr>\n",
       "      <th>327819</th>\n",
       "      <td>3125</td>\n",
       "      <td>Warrant Arrests</td>\n",
       "      <td>WARRANT ARREST</td>\n",
       "      <td>D4</td>\n",
       "      <td>903</td>\n",
       "      <td>NaN</td>\n",
       "      <td>2015-06-22 00:12:00</td>\n",
       "      <td>2015</td>\n",
       "      <td>6</td>\n",
       "      <td>Monday</td>\n",
       "      <td>0</td>\n",
       "      <td>Part Three</td>\n",
       "      <td>WASHINGTON ST</td>\n",
       "      <td>42.333839</td>\n",
       "      <td>-71.080290</td>\n",
       "      <td>(42.33383935, -71.08029038)</td>\n",
       "    </tr>\n",
       "  </tbody>\n",
       "</table>\n",
       "</div>"
      ],
      "text/plain": [
       "        OFFENSE_CODE OFFENSE_CODE_GROUP                  OFFENSE_DESCRIPTION  \\\n",
       "327815          3125    Warrant Arrests                       WARRANT ARREST   \n",
       "327816           111           Homicide  MURDER, NON-NEGLIGIENT MANSLAUGHTER   \n",
       "327817          3125    Warrant Arrests                       WARRANT ARREST   \n",
       "327818          3125    Warrant Arrests                       WARRANT ARREST   \n",
       "327819          3125    Warrant Arrests                       WARRANT ARREST   \n",
       "\n",
       "       DISTRICT REPORTING_AREA SHOOTING     OCCURRED_ON_DATE  YEAR  MONTH  \\\n",
       "327815       D4            285      NaN  2016-06-05 17:25:00  2016      6   \n",
       "327816      E18            520      NaN  2015-07-09 13:38:00  2015      7   \n",
       "327817      E18            520      NaN  2015-07-09 13:38:00  2015      7   \n",
       "327818      E13            569      NaN  2016-05-31 19:35:00  2016      5   \n",
       "327819       D4            903      NaN  2015-06-22 00:12:00  2015      6   \n",
       "\n",
       "       DAY_OF_WEEK  HOUR    UCR_PART             STREET        Lat       Long  \\\n",
       "327815      Sunday    17  Part Three        COVENTRY ST  42.336951 -71.085748   \n",
       "327816    Thursday    13    Part One           RIVER ST  42.255926 -71.123172   \n",
       "327817    Thursday    13  Part Three           RIVER ST  42.255926 -71.123172   \n",
       "327818     Tuesday    19  Part Three  NEW WASHINGTON ST  42.302333 -71.111565   \n",
       "327819      Monday     0  Part Three      WASHINGTON ST  42.333839 -71.080290   \n",
       "\n",
       "                           Location  \n",
       "327815  (42.33695098, -71.08574813)  \n",
       "327816  (42.25592648, -71.12317207)  \n",
       "327817  (42.25592648, -71.12317207)  \n",
       "327818  (42.30233307, -71.11156487)  \n",
       "327819  (42.33383935, -71.08029038)  "
      ]
     },
     "execution_count": 222,
     "metadata": {},
     "output_type": "execute_result"
    }
   ],
   "source": [
    "pd_df = pd_df.drop('INCIDENT_NUMBER', 1)\n",
    "pd_df.tail()"
   ]
  },
  {
   "cell_type": "code",
   "execution_count": 223,
   "metadata": {
    "collapsed": true
   },
   "outputs": [],
   "source": [
    "pd_df['Day'] = 0\n",
    "pd_df['Night'] = 0\n"
   ]
  },
  {
   "cell_type": "code",
   "execution_count": 224,
   "metadata": {},
   "outputs": [
    {
     "data": {
      "text/plain": [
       "OFFENSE_CODE                0\n",
       "OFFENSE_CODE_GROUP          0\n",
       "OFFENSE_DESCRIPTION         0\n",
       "DISTRICT                 1774\n",
       "REPORTING_AREA              0\n",
       "SHOOTING               326765\n",
       "OCCURRED_ON_DATE            0\n",
       "YEAR                        0\n",
       "MONTH                       0\n",
       "DAY_OF_WEEK                 0\n",
       "HOUR                        0\n",
       "UCR_PART                   93\n",
       "STREET                  10977\n",
       "Lat                     20632\n",
       "Long                    20632\n",
       "Location                    0\n",
       "Day                         0\n",
       "Night                       0\n",
       "dtype: int64"
      ]
     },
     "execution_count": 224,
     "metadata": {},
     "output_type": "execute_result"
    }
   ],
   "source": [
    "pd_df.isnull().sum()"
   ]
  },
  {
   "cell_type": "code",
   "execution_count": 225,
   "metadata": {
    "collapsed": true
   },
   "outputs": [],
   "source": [
    "pd_df['SHOOTING'].fillna(0, inplace = True)\n",
    "\n",
    "pd_df['SHOOTING'] = pd_df['SHOOTING'].map({\n",
    "    0: 0,\n",
    "    'Y':1\n",
    "})"
   ]
  },
  {
   "cell_type": "code",
   "execution_count": 226,
   "metadata": {},
   "outputs": [
    {
     "data": {
      "text/plain": [
       "OFFENSE_CODE               0\n",
       "OFFENSE_CODE_GROUP         0\n",
       "OFFENSE_DESCRIPTION        0\n",
       "DISTRICT                1774\n",
       "REPORTING_AREA             0\n",
       "SHOOTING                   0\n",
       "OCCURRED_ON_DATE           0\n",
       "YEAR                       0\n",
       "MONTH                      0\n",
       "DAY_OF_WEEK                0\n",
       "HOUR                       0\n",
       "UCR_PART                  93\n",
       "STREET                 10977\n",
       "Lat                    20632\n",
       "Long                   20632\n",
       "Location                   0\n",
       "Day                        0\n",
       "Night                      0\n",
       "dtype: int64"
      ]
     },
     "execution_count": 226,
     "metadata": {},
     "output_type": "execute_result"
    }
   ],
   "source": [
    "pd_df.isnull().sum()"
   ]
  },
  {
   "cell_type": "code",
   "execution_count": 227,
   "metadata": {},
   "outputs": [
    {
     "name": "stderr",
     "output_type": "stream",
     "text": [
      "C:\\Users\\ptari\\Anaconda3\\lib\\site-packages\\pandas\\core\\indexing.py:179: SettingWithCopyWarning: \n",
      "A value is trying to be set on a copy of a slice from a DataFrame\n",
      "\n",
      "See the caveats in the documentation: http://pandas.pydata.org/pandas-docs/stable/indexing.html#indexing-view-versus-copy\n",
      "  self._setitem_with_indexer(indexer, value)\n"
     ]
    }
   ],
   "source": [
    "# Day or night for 1st month\n",
    "pd_df['Day'].loc[(pd_df['MONTH'] == 1) & (pd_df['HOUR'] >= 6) & (pd_df['HOUR'] <= 18)] = 1\n",
    "\n",
    "# Day or night for 2st month\n",
    "pd_df['Day'].loc[(pd_df['MONTH'] == 2) & (pd_df['HOUR'] >= 6) & (pd_df['HOUR'] <= 19)] = 1\n",
    "\n",
    "# for 3st month\n",
    "pd_df['Day'].loc[(pd_df['MONTH'] == 3) & (pd_df['HOUR'] >= 6) & (pd_df['HOUR'] <= 20)] = 1\n",
    "\n",
    "# Day or night for 4st month\n",
    "pd_df['Day'].loc[(pd_df['MONTH'] == 4) & (pd_df['HOUR'] >= 5) & (pd_df['HOUR'] <= 20)] = 1\n",
    "\n",
    "# Day or night for 5st month\n",
    "pd_df['Day'].loc[(pd_df['MONTH'] == 5) & (pd_df['HOUR'] >= 5) & (pd_df['HOUR'] <= 21)] = 1\n",
    "\n",
    "# Day or night for 6st month\n",
    "pd_df['Day'].loc[(pd_df['MONTH'] == 6) & (pd_df['HOUR'] >= 4) & (pd_df['HOUR'] <= 21)] = 1\n",
    "\n",
    "# Day or night for 7st month\n",
    "pd_df['Day'].loc[(pd_df['MONTH'] == 7) & (pd_df['HOUR'] >= 5) & (pd_df['HOUR'] <= 21)] = 1\n",
    "\n",
    "# Day or night for 8st month\n",
    "pd_df['Day'].loc[(pd_df['MONTH'] == 8) & (pd_df['HOUR'] >= 5) & (pd_df['HOUR'] <= 21)] = 1\n",
    "\n",
    "# Day or night for 9st month\n",
    "pd_df['Day'].loc[(pd_df['MONTH'] == 9) & (pd_df['HOUR'] >= 6) & (pd_df['HOUR'] <= 20)] = 1\n",
    "\n",
    "# Day or night for 10st month\n",
    "pd_df['Day'].loc[(pd_df['MONTH'] == 10) & (pd_df['HOUR'] >= 6) & (pd_df['HOUR'] <= 19)] = 1\n",
    "\n",
    "# Day or night for 11st month\n",
    "pd_df['Day'].loc[(pd_df['MONTH'] == 11) & (pd_df['HOUR'] >= 6) & (pd_df['HOUR'] <= 17)] = 1\n",
    "\n",
    "# Day or night for 12st month\n",
    "pd_df['Day'].loc[(pd_df['MONTH'] == 12) & (pd_df['HOUR'] >= 7) & (pd_df['HOUR'] <= 17)] = 1"
   ]
  },
  {
   "cell_type": "code",
   "execution_count": 228,
   "metadata": {},
   "outputs": [
    {
     "name": "stderr",
     "output_type": "stream",
     "text": [
      "C:\\Users\\ptari\\Anaconda3\\lib\\site-packages\\pandas\\core\\indexing.py:179: SettingWithCopyWarning: \n",
      "A value is trying to be set on a copy of a slice from a DataFrame\n",
      "\n",
      "See the caveats in the documentation: http://pandas.pydata.org/pandas-docs/stable/indexing.html#indexing-view-versus-copy\n",
      "  self._setitem_with_indexer(indexer, value)\n"
     ]
    }
   ],
   "source": [
    "pd_df['Night'].loc[pd_df['Day']==0]=1"
   ]
  },
  {
   "cell_type": "code",
   "execution_count": 229,
   "metadata": {
    "scrolled": true
   },
   "outputs": [
    {
     "data": {
      "text/html": [
       "<div>\n",
       "<style>\n",
       "    .dataframe thead tr:only-child th {\n",
       "        text-align: right;\n",
       "    }\n",
       "\n",
       "    .dataframe thead th {\n",
       "        text-align: left;\n",
       "    }\n",
       "\n",
       "    .dataframe tbody tr th {\n",
       "        vertical-align: top;\n",
       "    }\n",
       "</style>\n",
       "<table border=\"1\" class=\"dataframe\">\n",
       "  <thead>\n",
       "    <tr style=\"text-align: right;\">\n",
       "      <th></th>\n",
       "      <th>OFFENSE_CODE</th>\n",
       "      <th>OFFENSE_CODE_GROUP</th>\n",
       "      <th>OFFENSE_DESCRIPTION</th>\n",
       "      <th>DISTRICT</th>\n",
       "      <th>REPORTING_AREA</th>\n",
       "      <th>SHOOTING</th>\n",
       "      <th>OCCURRED_ON_DATE</th>\n",
       "      <th>YEAR</th>\n",
       "      <th>MONTH</th>\n",
       "      <th>DAY_OF_WEEK</th>\n",
       "      <th>HOUR</th>\n",
       "      <th>UCR_PART</th>\n",
       "      <th>STREET</th>\n",
       "      <th>Lat</th>\n",
       "      <th>Long</th>\n",
       "      <th>Location</th>\n",
       "      <th>Day</th>\n",
       "      <th>Night</th>\n",
       "    </tr>\n",
       "  </thead>\n",
       "  <tbody>\n",
       "    <tr>\n",
       "      <th>327815</th>\n",
       "      <td>3125</td>\n",
       "      <td>Warrant Arrests</td>\n",
       "      <td>WARRANT ARREST</td>\n",
       "      <td>D4</td>\n",
       "      <td>285</td>\n",
       "      <td>0</td>\n",
       "      <td>2016-06-05 17:25:00</td>\n",
       "      <td>2016</td>\n",
       "      <td>6</td>\n",
       "      <td>Sunday</td>\n",
       "      <td>17</td>\n",
       "      <td>Part Three</td>\n",
       "      <td>COVENTRY ST</td>\n",
       "      <td>42.336951</td>\n",
       "      <td>-71.085748</td>\n",
       "      <td>(42.33695098, -71.08574813)</td>\n",
       "      <td>1</td>\n",
       "      <td>0</td>\n",
       "    </tr>\n",
       "    <tr>\n",
       "      <th>327816</th>\n",
       "      <td>111</td>\n",
       "      <td>Homicide</td>\n",
       "      <td>MURDER, NON-NEGLIGIENT MANSLAUGHTER</td>\n",
       "      <td>E18</td>\n",
       "      <td>520</td>\n",
       "      <td>0</td>\n",
       "      <td>2015-07-09 13:38:00</td>\n",
       "      <td>2015</td>\n",
       "      <td>7</td>\n",
       "      <td>Thursday</td>\n",
       "      <td>13</td>\n",
       "      <td>Part One</td>\n",
       "      <td>RIVER ST</td>\n",
       "      <td>42.255926</td>\n",
       "      <td>-71.123172</td>\n",
       "      <td>(42.25592648, -71.12317207)</td>\n",
       "      <td>1</td>\n",
       "      <td>0</td>\n",
       "    </tr>\n",
       "    <tr>\n",
       "      <th>327817</th>\n",
       "      <td>3125</td>\n",
       "      <td>Warrant Arrests</td>\n",
       "      <td>WARRANT ARREST</td>\n",
       "      <td>E18</td>\n",
       "      <td>520</td>\n",
       "      <td>0</td>\n",
       "      <td>2015-07-09 13:38:00</td>\n",
       "      <td>2015</td>\n",
       "      <td>7</td>\n",
       "      <td>Thursday</td>\n",
       "      <td>13</td>\n",
       "      <td>Part Three</td>\n",
       "      <td>RIVER ST</td>\n",
       "      <td>42.255926</td>\n",
       "      <td>-71.123172</td>\n",
       "      <td>(42.25592648, -71.12317207)</td>\n",
       "      <td>1</td>\n",
       "      <td>0</td>\n",
       "    </tr>\n",
       "    <tr>\n",
       "      <th>327818</th>\n",
       "      <td>3125</td>\n",
       "      <td>Warrant Arrests</td>\n",
       "      <td>WARRANT ARREST</td>\n",
       "      <td>E13</td>\n",
       "      <td>569</td>\n",
       "      <td>0</td>\n",
       "      <td>2016-05-31 19:35:00</td>\n",
       "      <td>2016</td>\n",
       "      <td>5</td>\n",
       "      <td>Tuesday</td>\n",
       "      <td>19</td>\n",
       "      <td>Part Three</td>\n",
       "      <td>NEW WASHINGTON ST</td>\n",
       "      <td>42.302333</td>\n",
       "      <td>-71.111565</td>\n",
       "      <td>(42.30233307, -71.11156487)</td>\n",
       "      <td>1</td>\n",
       "      <td>0</td>\n",
       "    </tr>\n",
       "    <tr>\n",
       "      <th>327819</th>\n",
       "      <td>3125</td>\n",
       "      <td>Warrant Arrests</td>\n",
       "      <td>WARRANT ARREST</td>\n",
       "      <td>D4</td>\n",
       "      <td>903</td>\n",
       "      <td>0</td>\n",
       "      <td>2015-06-22 00:12:00</td>\n",
       "      <td>2015</td>\n",
       "      <td>6</td>\n",
       "      <td>Monday</td>\n",
       "      <td>0</td>\n",
       "      <td>Part Three</td>\n",
       "      <td>WASHINGTON ST</td>\n",
       "      <td>42.333839</td>\n",
       "      <td>-71.080290</td>\n",
       "      <td>(42.33383935, -71.08029038)</td>\n",
       "      <td>0</td>\n",
       "      <td>1</td>\n",
       "    </tr>\n",
       "  </tbody>\n",
       "</table>\n",
       "</div>"
      ],
      "text/plain": [
       "        OFFENSE_CODE OFFENSE_CODE_GROUP                  OFFENSE_DESCRIPTION  \\\n",
       "327815          3125    Warrant Arrests                       WARRANT ARREST   \n",
       "327816           111           Homicide  MURDER, NON-NEGLIGIENT MANSLAUGHTER   \n",
       "327817          3125    Warrant Arrests                       WARRANT ARREST   \n",
       "327818          3125    Warrant Arrests                       WARRANT ARREST   \n",
       "327819          3125    Warrant Arrests                       WARRANT ARREST   \n",
       "\n",
       "       DISTRICT REPORTING_AREA  SHOOTING     OCCURRED_ON_DATE  YEAR  MONTH  \\\n",
       "327815       D4            285         0  2016-06-05 17:25:00  2016      6   \n",
       "327816      E18            520         0  2015-07-09 13:38:00  2015      7   \n",
       "327817      E18            520         0  2015-07-09 13:38:00  2015      7   \n",
       "327818      E13            569         0  2016-05-31 19:35:00  2016      5   \n",
       "327819       D4            903         0  2015-06-22 00:12:00  2015      6   \n",
       "\n",
       "       DAY_OF_WEEK  HOUR    UCR_PART             STREET        Lat       Long  \\\n",
       "327815      Sunday    17  Part Three        COVENTRY ST  42.336951 -71.085748   \n",
       "327816    Thursday    13    Part One           RIVER ST  42.255926 -71.123172   \n",
       "327817    Thursday    13  Part Three           RIVER ST  42.255926 -71.123172   \n",
       "327818     Tuesday    19  Part Three  NEW WASHINGTON ST  42.302333 -71.111565   \n",
       "327819      Monday     0  Part Three      WASHINGTON ST  42.333839 -71.080290   \n",
       "\n",
       "                           Location  Day  Night  \n",
       "327815  (42.33695098, -71.08574813)    1      0  \n",
       "327816  (42.25592648, -71.12317207)    1      0  \n",
       "327817  (42.25592648, -71.12317207)    1      0  \n",
       "327818  (42.30233307, -71.11156487)    1      0  \n",
       "327819  (42.33383935, -71.08029038)    0      1  "
      ]
     },
     "execution_count": 229,
     "metadata": {},
     "output_type": "execute_result"
    }
   ],
   "source": [
    "pd_df.tail()"
   ]
  },
  {
   "cell_type": "code",
   "execution_count": 230,
   "metadata": {},
   "outputs": [
    {
     "data": {
      "text/plain": [
       "Motor Vehicle Accident Response    38134\n",
       "Larceny                            26670\n",
       "Medical Assistance                 24226\n",
       "Investigate Person                 19176\n",
       "Other                              18612\n",
       "Drug Violation                     17037\n",
       "Simple Assault                     16263\n",
       "Vandalism                          15810\n",
       "Verbal Disputes                    13478\n",
       "Towed                              11632\n",
       "Investigate Property               11443\n",
       "Larceny From Motor Vehicle         11120\n",
       "Property Lost                      10077\n",
       "Warrant Arrests                     8579\n",
       "Aggravated Assault                  8033\n",
       "Name: OFFENSE_CODE_GROUP, dtype: int64"
      ]
     },
     "execution_count": 230,
     "metadata": {},
     "output_type": "execute_result"
    }
   ],
   "source": [
    "pd_df['OFFENSE_CODE_GROUP'].value_counts().head(15)"
   ]
  },
  {
   "cell_type": "code",
   "execution_count": 231,
   "metadata": {
    "collapsed": true
   },
   "outputs": [],
   "source": [
    "list_offense_code_group = ('Motor Vehicle Accident Response',\n",
    "                           'Larceny',\n",
    "                           'Medical Assistance',\n",
    "                           'Investigate Person',\n",
    "                           'Other',\n",
    "                           'Drug Violation',\n",
    "                           'Simple Assault',\n",
    "                           'Vandalism',\n",
    "                           'Verbal Disputes',\n",
    "                           'Towed',\n",
    "                           'Investigate Property',\n",
    "                           'Larceny From Motor Vehicle')"
   ]
  },
  {
   "cell_type": "code",
   "execution_count": 232,
   "metadata": {
    "collapsed": true
   },
   "outputs": [],
   "source": [
    "pd_df_model = pd.DataFrame()"
   ]
  },
  {
   "cell_type": "code",
   "execution_count": 233,
   "metadata": {},
   "outputs": [
    {
     "data": {
      "text/html": [
       "<div>\n",
       "<style>\n",
       "    .dataframe thead tr:only-child th {\n",
       "        text-align: right;\n",
       "    }\n",
       "\n",
       "    .dataframe thead th {\n",
       "        text-align: left;\n",
       "    }\n",
       "\n",
       "    .dataframe tbody tr th {\n",
       "        vertical-align: top;\n",
       "    }\n",
       "</style>\n",
       "<table border=\"1\" class=\"dataframe\">\n",
       "  <thead>\n",
       "    <tr style=\"text-align: right;\">\n",
       "      <th></th>\n",
       "      <th>OFFENSE_CODE</th>\n",
       "      <th>OFFENSE_CODE_GROUP</th>\n",
       "      <th>OFFENSE_DESCRIPTION</th>\n",
       "      <th>DISTRICT</th>\n",
       "      <th>REPORTING_AREA</th>\n",
       "      <th>SHOOTING</th>\n",
       "      <th>OCCURRED_ON_DATE</th>\n",
       "      <th>YEAR</th>\n",
       "      <th>MONTH</th>\n",
       "      <th>DAY_OF_WEEK</th>\n",
       "      <th>HOUR</th>\n",
       "      <th>UCR_PART</th>\n",
       "      <th>STREET</th>\n",
       "      <th>Lat</th>\n",
       "      <th>Long</th>\n",
       "      <th>Location</th>\n",
       "      <th>Day</th>\n",
       "      <th>Night</th>\n",
       "    </tr>\n",
       "  </thead>\n",
       "  <tbody>\n",
       "    <tr>\n",
       "      <th>327424</th>\n",
       "      <td>614</td>\n",
       "      <td>Larceny From Motor Vehicle</td>\n",
       "      <td>LARCENY THEFT FROM MV - NON-ACCESSORY</td>\n",
       "      <td>C6</td>\n",
       "      <td>196</td>\n",
       "      <td>0</td>\n",
       "      <td>2018-03-12 11:00:00</td>\n",
       "      <td>2018</td>\n",
       "      <td>3</td>\n",
       "      <td>Monday</td>\n",
       "      <td>11</td>\n",
       "      <td>Part One</td>\n",
       "      <td>OLD COLONY AVE</td>\n",
       "      <td>42.335811</td>\n",
       "      <td>-71.055754</td>\n",
       "      <td>(42.33581104, -71.05575441)</td>\n",
       "      <td>1</td>\n",
       "      <td>0</td>\n",
       "    </tr>\n",
       "    <tr>\n",
       "      <th>327445</th>\n",
       "      <td>614</td>\n",
       "      <td>Larceny From Motor Vehicle</td>\n",
       "      <td>LARCENY THEFT FROM MV - NON-ACCESSORY</td>\n",
       "      <td>D14</td>\n",
       "      <td>796</td>\n",
       "      <td>0</td>\n",
       "      <td>2015-08-12 10:30:00</td>\n",
       "      <td>2015</td>\n",
       "      <td>8</td>\n",
       "      <td>Wednesday</td>\n",
       "      <td>10</td>\n",
       "      <td>Part One</td>\n",
       "      <td>COMMONWEALTH AVE</td>\n",
       "      <td>42.350342</td>\n",
       "      <td>-71.129429</td>\n",
       "      <td>(42.35034226, -71.12942937)</td>\n",
       "      <td>1</td>\n",
       "      <td>0</td>\n",
       "    </tr>\n",
       "    <tr>\n",
       "      <th>327463</th>\n",
       "      <td>624</td>\n",
       "      <td>Larceny From Motor Vehicle</td>\n",
       "      <td>LARCENY NON-ACCESSORY FROM VEH. $50 TO $199</td>\n",
       "      <td>A1</td>\n",
       "      <td>104</td>\n",
       "      <td>0</td>\n",
       "      <td>2015-12-22 20:25:00</td>\n",
       "      <td>2015</td>\n",
       "      <td>12</td>\n",
       "      <td>Tuesday</td>\n",
       "      <td>20</td>\n",
       "      <td>Part One</td>\n",
       "      <td>WASHINGTON ST</td>\n",
       "      <td>42.356801</td>\n",
       "      <td>-71.058930</td>\n",
       "      <td>(42.35680075, -71.05893025)</td>\n",
       "      <td>0</td>\n",
       "      <td>1</td>\n",
       "    </tr>\n",
       "    <tr>\n",
       "      <th>327647</th>\n",
       "      <td>614</td>\n",
       "      <td>Larceny From Motor Vehicle</td>\n",
       "      <td>LARCENY NON-ACCESSORY FROM VEH. $200 &amp; OVER</td>\n",
       "      <td>C11</td>\n",
       "      <td></td>\n",
       "      <td>0</td>\n",
       "      <td>2016-08-01 00:00:00</td>\n",
       "      <td>2016</td>\n",
       "      <td>8</td>\n",
       "      <td>Monday</td>\n",
       "      <td>0</td>\n",
       "      <td>Part One</td>\n",
       "      <td>ADAMS ST</td>\n",
       "      <td>NaN</td>\n",
       "      <td>NaN</td>\n",
       "      <td>(0.00000000, 0.00000000)</td>\n",
       "      <td>0</td>\n",
       "      <td>1</td>\n",
       "    </tr>\n",
       "    <tr>\n",
       "      <th>327648</th>\n",
       "      <td>634</td>\n",
       "      <td>Larceny From Motor Vehicle</td>\n",
       "      <td>LARCENY NON-ACCESSORY FROM VEH. UNDER $50</td>\n",
       "      <td>C11</td>\n",
       "      <td></td>\n",
       "      <td>0</td>\n",
       "      <td>2016-08-01 00:00:00</td>\n",
       "      <td>2016</td>\n",
       "      <td>8</td>\n",
       "      <td>Monday</td>\n",
       "      <td>0</td>\n",
       "      <td>Part One</td>\n",
       "      <td>ADAMS ST</td>\n",
       "      <td>NaN</td>\n",
       "      <td>NaN</td>\n",
       "      <td>(0.00000000, 0.00000000)</td>\n",
       "      <td>0</td>\n",
       "      <td>1</td>\n",
       "    </tr>\n",
       "  </tbody>\n",
       "</table>\n",
       "</div>"
      ],
      "text/plain": [
       "        OFFENSE_CODE          OFFENSE_CODE_GROUP  \\\n",
       "327424           614  Larceny From Motor Vehicle   \n",
       "327445           614  Larceny From Motor Vehicle   \n",
       "327463           624  Larceny From Motor Vehicle   \n",
       "327647           614  Larceny From Motor Vehicle   \n",
       "327648           634  Larceny From Motor Vehicle   \n",
       "\n",
       "                                OFFENSE_DESCRIPTION DISTRICT REPORTING_AREA  \\\n",
       "327424        LARCENY THEFT FROM MV - NON-ACCESSORY       C6            196   \n",
       "327445        LARCENY THEFT FROM MV - NON-ACCESSORY      D14            796   \n",
       "327463  LARCENY NON-ACCESSORY FROM VEH. $50 TO $199       A1            104   \n",
       "327647  LARCENY NON-ACCESSORY FROM VEH. $200 & OVER      C11                  \n",
       "327648    LARCENY NON-ACCESSORY FROM VEH. UNDER $50      C11                  \n",
       "\n",
       "        SHOOTING     OCCURRED_ON_DATE  YEAR  MONTH DAY_OF_WEEK  HOUR  \\\n",
       "327424         0  2018-03-12 11:00:00  2018      3      Monday    11   \n",
       "327445         0  2015-08-12 10:30:00  2015      8   Wednesday    10   \n",
       "327463         0  2015-12-22 20:25:00  2015     12     Tuesday    20   \n",
       "327647         0  2016-08-01 00:00:00  2016      8      Monday     0   \n",
       "327648         0  2016-08-01 00:00:00  2016      8      Monday     0   \n",
       "\n",
       "        UCR_PART            STREET        Lat       Long  \\\n",
       "327424  Part One    OLD COLONY AVE  42.335811 -71.055754   \n",
       "327445  Part One  COMMONWEALTH AVE  42.350342 -71.129429   \n",
       "327463  Part One     WASHINGTON ST  42.356801 -71.058930   \n",
       "327647  Part One          ADAMS ST        NaN        NaN   \n",
       "327648  Part One          ADAMS ST        NaN        NaN   \n",
       "\n",
       "                           Location  Day  Night  \n",
       "327424  (42.33581104, -71.05575441)    1      0  \n",
       "327445  (42.35034226, -71.12942937)    1      0  \n",
       "327463  (42.35680075, -71.05893025)    0      1  \n",
       "327647     (0.00000000, 0.00000000)    0      1  \n",
       "327648     (0.00000000, 0.00000000)    0      1  "
      ]
     },
     "execution_count": 233,
     "metadata": {},
     "output_type": "execute_result"
    }
   ],
   "source": [
    "i = 0\n",
    "\n",
    "while i < len(list_offense_code_group):\n",
    "\n",
    "    pd_df_model = pd_df_model.append(pd_df.loc[pd_df['OFFENSE_CODE_GROUP'] == list_offense_code_group[i]])\n",
    "    \n",
    "    i+=1\n",
    "pd_df_model.tail()"
   ]
  },
  {
   "cell_type": "code",
   "execution_count": 234,
   "metadata": {
    "collapsed": true
   },
   "outputs": [],
   "source": [
    "list_column = ['DISTRICT','REPORTING_AREA','MONTH','DAY_OF_WEEK',\n",
    "               'HOUR','Lat','Long', 'OFFENSE_CODE_GROUP','Day','Night']\n",
    "pd_df_model = pd_df_model[list_column]"
   ]
  },
  {
   "cell_type": "code",
   "execution_count": 235,
   "metadata": {},
   "outputs": [
    {
     "data": {
      "text/plain": [
       "array([nan,  6.,  5.,  8.,  3.,  2., 11., 10.,  1.,  7.,  9.,  4., 12.])"
      ]
     },
     "execution_count": 235,
     "metadata": {},
     "output_type": "execute_result"
    }
   ],
   "source": [
    "pd_df_model['DISTRICT'] = pd_df_model['DISTRICT'].map({\n",
    "    'B3':1, \n",
    "    'E18':2, \n",
    "    'B2':3, \n",
    "    'E5':4, \n",
    "    'C6':5, \n",
    "    'D14':6, \n",
    "    'E13':7, \n",
    "    'C11':8, \n",
    "    'D4':9, \n",
    "    'A7':10, \n",
    "    'A1':11, \n",
    "    'A15':12\n",
    "})\n",
    "\n",
    "pd_df_model['DISTRICT'].unique()"
   ]
  },
  {
   "cell_type": "code",
   "execution_count": 236,
   "metadata": {
    "collapsed": true
   },
   "outputs": [],
   "source": [
    "pd_df_model['REPORTING_AREA'] = pd.to_numeric(pd_df_model['REPORTING_AREA'], errors='coerce')"
   ]
  },
  {
   "cell_type": "code",
   "execution_count": 237,
   "metadata": {},
   "outputs": [
    {
     "data": {
      "text/plain": [
       "array([3, 2, 1, 7, 4, 5, 6], dtype=int64)"
      ]
     },
     "execution_count": 237,
     "metadata": {},
     "output_type": "execute_result"
    }
   ],
   "source": [
    "pd_df_model['DAY_OF_WEEK'] = pd_df_model['DAY_OF_WEEK'].map({\n",
    "    'Tuesday':2, \n",
    "    'Saturday':6, \n",
    "    'Monday':1, \n",
    "    'Sunday':7, \n",
    "    'Thursday':4, \n",
    "    'Wednesday':3,\n",
    "    'Friday':5\n",
    "})\n",
    "\n",
    "pd_df_model['DAY_OF_WEEK'].unique()\n"
   ]
  },
  {
   "cell_type": "code",
   "execution_count": 238,
   "metadata": {
    "collapsed": true
   },
   "outputs": [],
   "source": [
    "pd_df_model.fillna(0, inplace = True)"
   ]
  },
  {
   "cell_type": "markdown",
   "metadata": {},
   "source": [
    "pd_df_model['OFFENSE_CODE_GROUP'] = pd_df_model['OFFENSE_CODE_GROUP'].map({\n",
    "    'Motor Vehicle Accident Response':1, \n",
    "    'Larceny':2, \n",
    "    'Medical Assistance':3,\n",
    "    'Investigate Person':4, \n",
    "    'Other':5, \n",
    "    'Drug Violation':6, \n",
    "    'Simple Assault':7,\n",
    "    'Vandalism':8, \n",
    "    'Verbal Disputes':9, \n",
    "    'Towed':10, \n",
    "    'Investigate Property':11,\n",
    "    'Larceny From Motor Vehicle':12\n",
    "})"
   ]
  },
  {
   "cell_type": "code",
   "execution_count": 239,
   "metadata": {},
   "outputs": [
    {
     "data": {
      "text/html": [
       "<div>\n",
       "<style>\n",
       "    .dataframe thead tr:only-child th {\n",
       "        text-align: right;\n",
       "    }\n",
       "\n",
       "    .dataframe thead th {\n",
       "        text-align: left;\n",
       "    }\n",
       "\n",
       "    .dataframe tbody tr th {\n",
       "        vertical-align: top;\n",
       "    }\n",
       "</style>\n",
       "<table border=\"1\" class=\"dataframe\">\n",
       "  <thead>\n",
       "    <tr style=\"text-align: right;\">\n",
       "      <th></th>\n",
       "      <th>DISTRICT</th>\n",
       "      <th>REPORTING_AREA</th>\n",
       "      <th>MONTH</th>\n",
       "      <th>DAY_OF_WEEK</th>\n",
       "      <th>HOUR</th>\n",
       "      <th>Lat</th>\n",
       "      <th>Long</th>\n",
       "      <th>OFFENSE_CODE_GROUP</th>\n",
       "      <th>Day</th>\n",
       "      <th>Night</th>\n",
       "    </tr>\n",
       "  </thead>\n",
       "  <tbody>\n",
       "    <tr>\n",
       "      <th>327424</th>\n",
       "      <td>5.0</td>\n",
       "      <td>196.0</td>\n",
       "      <td>3</td>\n",
       "      <td>1</td>\n",
       "      <td>11</td>\n",
       "      <td>42.335811</td>\n",
       "      <td>-71.055754</td>\n",
       "      <td>Larceny From Motor Vehicle</td>\n",
       "      <td>1</td>\n",
       "      <td>0</td>\n",
       "    </tr>\n",
       "    <tr>\n",
       "      <th>327445</th>\n",
       "      <td>6.0</td>\n",
       "      <td>796.0</td>\n",
       "      <td>8</td>\n",
       "      <td>3</td>\n",
       "      <td>10</td>\n",
       "      <td>42.350342</td>\n",
       "      <td>-71.129429</td>\n",
       "      <td>Larceny From Motor Vehicle</td>\n",
       "      <td>1</td>\n",
       "      <td>0</td>\n",
       "    </tr>\n",
       "    <tr>\n",
       "      <th>327463</th>\n",
       "      <td>11.0</td>\n",
       "      <td>104.0</td>\n",
       "      <td>12</td>\n",
       "      <td>2</td>\n",
       "      <td>20</td>\n",
       "      <td>42.356801</td>\n",
       "      <td>-71.058930</td>\n",
       "      <td>Larceny From Motor Vehicle</td>\n",
       "      <td>0</td>\n",
       "      <td>1</td>\n",
       "    </tr>\n",
       "    <tr>\n",
       "      <th>327647</th>\n",
       "      <td>8.0</td>\n",
       "      <td>0.0</td>\n",
       "      <td>8</td>\n",
       "      <td>1</td>\n",
       "      <td>0</td>\n",
       "      <td>0.000000</td>\n",
       "      <td>0.000000</td>\n",
       "      <td>Larceny From Motor Vehicle</td>\n",
       "      <td>0</td>\n",
       "      <td>1</td>\n",
       "    </tr>\n",
       "    <tr>\n",
       "      <th>327648</th>\n",
       "      <td>8.0</td>\n",
       "      <td>0.0</td>\n",
       "      <td>8</td>\n",
       "      <td>1</td>\n",
       "      <td>0</td>\n",
       "      <td>0.000000</td>\n",
       "      <td>0.000000</td>\n",
       "      <td>Larceny From Motor Vehicle</td>\n",
       "      <td>0</td>\n",
       "      <td>1</td>\n",
       "    </tr>\n",
       "  </tbody>\n",
       "</table>\n",
       "</div>"
      ],
      "text/plain": [
       "        DISTRICT  REPORTING_AREA  MONTH  DAY_OF_WEEK  HOUR        Lat  \\\n",
       "327424       5.0           196.0      3            1    11  42.335811   \n",
       "327445       6.0           796.0      8            3    10  42.350342   \n",
       "327463      11.0           104.0     12            2    20  42.356801   \n",
       "327647       8.0             0.0      8            1     0   0.000000   \n",
       "327648       8.0             0.0      8            1     0   0.000000   \n",
       "\n",
       "             Long          OFFENSE_CODE_GROUP  Day  Night  \n",
       "327424 -71.055754  Larceny From Motor Vehicle    1      0  \n",
       "327445 -71.129429  Larceny From Motor Vehicle    1      0  \n",
       "327463 -71.058930  Larceny From Motor Vehicle    0      1  \n",
       "327647   0.000000  Larceny From Motor Vehicle    0      1  \n",
       "327648   0.000000  Larceny From Motor Vehicle    0      1  "
      ]
     },
     "execution_count": 239,
     "metadata": {},
     "output_type": "execute_result"
    }
   ],
   "source": [
    "pd_df_model.tail()"
   ]
  },
  {
   "cell_type": "code",
   "execution_count": null,
   "metadata": {
    "collapsed": true
   },
   "outputs": [],
   "source": []
  },
  {
   "cell_type": "code",
   "execution_count": 263,
   "metadata": {
    "collapsed": true
   },
   "outputs": [],
   "source": [
    "pd_df_model.to_csv('crime_new.csv')"
   ]
  },
  {
   "cell_type": "code",
   "execution_count": 240,
   "metadata": {},
   "outputs": [
    {
     "name": "stdout",
     "output_type": "stream",
     "text": [
      "Parse progress: |█████████████████████████████████████████████████████████| 100%\n"
     ]
    }
   ],
   "source": [
    "hf = h2o.H2OFrame(pd_df_model)"
   ]
  },
  {
   "cell_type": "code",
   "execution_count": 241,
   "metadata": {},
   "outputs": [
    {
     "data": {
      "text/html": [
       "<table>\n",
       "<thead>\n",
       "<tr><th style=\"text-align: right;\">  DISTRICT</th><th style=\"text-align: right;\">  REPORTING_AREA</th><th style=\"text-align: right;\">  MONTH</th><th style=\"text-align: right;\">  DAY_OF_WEEK</th><th style=\"text-align: right;\">  HOUR</th><th style=\"text-align: right;\">    Lat</th><th style=\"text-align: right;\">    Long</th><th>OFFENSE_CODE_GROUP        </th><th style=\"text-align: right;\">  Day</th><th style=\"text-align: right;\">  Night</th></tr>\n",
       "</thead>\n",
       "<tbody>\n",
       "<tr><td style=\"text-align: right;\">         5</td><td style=\"text-align: right;\">             915</td><td style=\"text-align: right;\">      6</td><td style=\"text-align: right;\">            1</td><td style=\"text-align: right;\">    21</td><td style=\"text-align: right;\">42.3321</td><td style=\"text-align: right;\">-71.0512</td><td>Larceny From Motor Vehicle</td><td style=\"text-align: right;\">    1</td><td style=\"text-align: right;\">      0</td></tr>\n",
       "<tr><td style=\"text-align: right;\">        12</td><td style=\"text-align: right;\">              55</td><td style=\"text-align: right;\">      6</td><td style=\"text-align: right;\">            2</td><td style=\"text-align: right;\">    13</td><td style=\"text-align: right;\">42.3764</td><td style=\"text-align: right;\">-71.0656</td><td>Larceny From Motor Vehicle</td><td style=\"text-align: right;\">    1</td><td style=\"text-align: right;\">      0</td></tr>\n",
       "<tr><td style=\"text-align: right;\">         9</td><td style=\"text-align: right;\">             627</td><td style=\"text-align: right;\">      6</td><td style=\"text-align: right;\">            2</td><td style=\"text-align: right;\">     9</td><td style=\"text-align: right;\">42.3434</td><td style=\"text-align: right;\">-71.0985</td><td>Larceny From Motor Vehicle</td><td style=\"text-align: right;\">    1</td><td style=\"text-align: right;\">      0</td></tr>\n",
       "<tr><td style=\"text-align: right;\">         0</td><td style=\"text-align: right;\">               0</td><td style=\"text-align: right;\">      6</td><td style=\"text-align: right;\">            1</td><td style=\"text-align: right;\">    11</td><td style=\"text-align: right;\"> 0     </td><td style=\"text-align: right;\">  0     </td><td>Larceny From Motor Vehicle</td><td style=\"text-align: right;\">    1</td><td style=\"text-align: right;\">      0</td></tr>\n",
       "<tr><td style=\"text-align: right;\">         9</td><td style=\"text-align: right;\">             155</td><td style=\"text-align: right;\">      6</td><td style=\"text-align: right;\">            1</td><td style=\"text-align: right;\">     0</td><td style=\"text-align: right;\">42.3414</td><td style=\"text-align: right;\">-71.079 </td><td>Larceny From Motor Vehicle</td><td style=\"text-align: right;\">    0</td><td style=\"text-align: right;\">      1</td></tr>\n",
       "<tr><td style=\"text-align: right;\">         5</td><td style=\"text-align: right;\">             196</td><td style=\"text-align: right;\">      3</td><td style=\"text-align: right;\">            1</td><td style=\"text-align: right;\">    11</td><td style=\"text-align: right;\">42.3358</td><td style=\"text-align: right;\">-71.0558</td><td>Larceny From Motor Vehicle</td><td style=\"text-align: right;\">    1</td><td style=\"text-align: right;\">      0</td></tr>\n",
       "<tr><td style=\"text-align: right;\">         6</td><td style=\"text-align: right;\">             796</td><td style=\"text-align: right;\">      8</td><td style=\"text-align: right;\">            3</td><td style=\"text-align: right;\">    10</td><td style=\"text-align: right;\">42.3503</td><td style=\"text-align: right;\">-71.1294</td><td>Larceny From Motor Vehicle</td><td style=\"text-align: right;\">    1</td><td style=\"text-align: right;\">      0</td></tr>\n",
       "<tr><td style=\"text-align: right;\">        11</td><td style=\"text-align: right;\">             104</td><td style=\"text-align: right;\">     12</td><td style=\"text-align: right;\">            2</td><td style=\"text-align: right;\">    20</td><td style=\"text-align: right;\">42.3568</td><td style=\"text-align: right;\">-71.0589</td><td>Larceny From Motor Vehicle</td><td style=\"text-align: right;\">    0</td><td style=\"text-align: right;\">      1</td></tr>\n",
       "<tr><td style=\"text-align: right;\">         8</td><td style=\"text-align: right;\">               0</td><td style=\"text-align: right;\">      8</td><td style=\"text-align: right;\">            1</td><td style=\"text-align: right;\">     0</td><td style=\"text-align: right;\"> 0     </td><td style=\"text-align: right;\">  0     </td><td>Larceny From Motor Vehicle</td><td style=\"text-align: right;\">    0</td><td style=\"text-align: right;\">      1</td></tr>\n",
       "<tr><td style=\"text-align: right;\">         8</td><td style=\"text-align: right;\">               0</td><td style=\"text-align: right;\">      8</td><td style=\"text-align: right;\">            1</td><td style=\"text-align: right;\">     0</td><td style=\"text-align: right;\"> 0     </td><td style=\"text-align: right;\">  0     </td><td>Larceny From Motor Vehicle</td><td style=\"text-align: right;\">    0</td><td style=\"text-align: right;\">      1</td></tr>\n",
       "</tbody>\n",
       "</table>"
      ]
     },
     "metadata": {},
     "output_type": "display_data"
    },
    {
     "data": {
      "text/plain": []
     },
     "execution_count": 241,
     "metadata": {},
     "output_type": "execute_result"
    }
   ],
   "source": [
    "hf.tail()"
   ]
  },
  {
   "cell_type": "code",
   "execution_count": 242,
   "metadata": {},
   "outputs": [
    {
     "data": {
      "text/html": [
       "<table>\n",
       "<thead>\n",
       "<tr><th style=\"text-align: right;\">  DISTRICT</th><th style=\"text-align: right;\">  REPORTING_AREA</th><th style=\"text-align: right;\">  MONTH</th><th style=\"text-align: right;\">  DAY_OF_WEEK</th><th style=\"text-align: right;\">  HOUR</th><th style=\"text-align: right;\">    Lat</th><th style=\"text-align: right;\">    Long</th><th style=\"text-align: right;\">  Day</th><th style=\"text-align: right;\">  Night</th><th>OFFENSE_CODE_GROUP        </th></tr>\n",
       "</thead>\n",
       "<tbody>\n",
       "<tr><td style=\"text-align: right;\">         5</td><td style=\"text-align: right;\">             915</td><td style=\"text-align: right;\">      6</td><td style=\"text-align: right;\">            1</td><td style=\"text-align: right;\">    21</td><td style=\"text-align: right;\">42.3321</td><td style=\"text-align: right;\">-71.0512</td><td style=\"text-align: right;\">    1</td><td style=\"text-align: right;\">      0</td><td>Larceny From Motor Vehicle</td></tr>\n",
       "<tr><td style=\"text-align: right;\">        12</td><td style=\"text-align: right;\">              55</td><td style=\"text-align: right;\">      6</td><td style=\"text-align: right;\">            2</td><td style=\"text-align: right;\">    13</td><td style=\"text-align: right;\">42.3764</td><td style=\"text-align: right;\">-71.0656</td><td style=\"text-align: right;\">    1</td><td style=\"text-align: right;\">      0</td><td>Larceny From Motor Vehicle</td></tr>\n",
       "<tr><td style=\"text-align: right;\">         9</td><td style=\"text-align: right;\">             627</td><td style=\"text-align: right;\">      6</td><td style=\"text-align: right;\">            2</td><td style=\"text-align: right;\">     9</td><td style=\"text-align: right;\">42.3434</td><td style=\"text-align: right;\">-71.0985</td><td style=\"text-align: right;\">    1</td><td style=\"text-align: right;\">      0</td><td>Larceny From Motor Vehicle</td></tr>\n",
       "<tr><td style=\"text-align: right;\">         0</td><td style=\"text-align: right;\">               0</td><td style=\"text-align: right;\">      6</td><td style=\"text-align: right;\">            1</td><td style=\"text-align: right;\">    11</td><td style=\"text-align: right;\"> 0     </td><td style=\"text-align: right;\">  0     </td><td style=\"text-align: right;\">    1</td><td style=\"text-align: right;\">      0</td><td>Larceny From Motor Vehicle</td></tr>\n",
       "<tr><td style=\"text-align: right;\">         9</td><td style=\"text-align: right;\">             155</td><td style=\"text-align: right;\">      6</td><td style=\"text-align: right;\">            1</td><td style=\"text-align: right;\">     0</td><td style=\"text-align: right;\">42.3414</td><td style=\"text-align: right;\">-71.079 </td><td style=\"text-align: right;\">    0</td><td style=\"text-align: right;\">      1</td><td>Larceny From Motor Vehicle</td></tr>\n",
       "<tr><td style=\"text-align: right;\">         5</td><td style=\"text-align: right;\">             196</td><td style=\"text-align: right;\">      3</td><td style=\"text-align: right;\">            1</td><td style=\"text-align: right;\">    11</td><td style=\"text-align: right;\">42.3358</td><td style=\"text-align: right;\">-71.0558</td><td style=\"text-align: right;\">    1</td><td style=\"text-align: right;\">      0</td><td>Larceny From Motor Vehicle</td></tr>\n",
       "<tr><td style=\"text-align: right;\">         6</td><td style=\"text-align: right;\">             796</td><td style=\"text-align: right;\">      8</td><td style=\"text-align: right;\">            3</td><td style=\"text-align: right;\">    10</td><td style=\"text-align: right;\">42.3503</td><td style=\"text-align: right;\">-71.1294</td><td style=\"text-align: right;\">    1</td><td style=\"text-align: right;\">      0</td><td>Larceny From Motor Vehicle</td></tr>\n",
       "<tr><td style=\"text-align: right;\">        11</td><td style=\"text-align: right;\">             104</td><td style=\"text-align: right;\">     12</td><td style=\"text-align: right;\">            2</td><td style=\"text-align: right;\">    20</td><td style=\"text-align: right;\">42.3568</td><td style=\"text-align: right;\">-71.0589</td><td style=\"text-align: right;\">    0</td><td style=\"text-align: right;\">      1</td><td>Larceny From Motor Vehicle</td></tr>\n",
       "<tr><td style=\"text-align: right;\">         8</td><td style=\"text-align: right;\">               0</td><td style=\"text-align: right;\">      8</td><td style=\"text-align: right;\">            1</td><td style=\"text-align: right;\">     0</td><td style=\"text-align: right;\"> 0     </td><td style=\"text-align: right;\">  0     </td><td style=\"text-align: right;\">    0</td><td style=\"text-align: right;\">      1</td><td>Larceny From Motor Vehicle</td></tr>\n",
       "<tr><td style=\"text-align: right;\">         8</td><td style=\"text-align: right;\">               0</td><td style=\"text-align: right;\">      8</td><td style=\"text-align: right;\">            1</td><td style=\"text-align: right;\">     0</td><td style=\"text-align: right;\"> 0     </td><td style=\"text-align: right;\">  0     </td><td style=\"text-align: right;\">    0</td><td style=\"text-align: right;\">      1</td><td>Larceny From Motor Vehicle</td></tr>\n",
       "</tbody>\n",
       "</table>"
      ]
     },
     "metadata": {},
     "output_type": "display_data"
    },
    {
     "data": {
      "text/plain": []
     },
     "execution_count": 242,
     "metadata": {},
     "output_type": "execute_result"
    }
   ],
   "source": [
    "hf=hf[['DISTRICT','REPORTING_AREA','MONTH','DAY_OF_WEEK','HOUR','Lat','Long','Day','Night','OFFENSE_CODE_GROUP']]\n",
    "hf.tail()"
   ]
  },
  {
   "cell_type": "code",
   "execution_count": 243,
   "metadata": {
    "collapsed": true
   },
   "outputs": [],
   "source": [
    "hf_x = hf[['DISTRICT','REPORTING_AREA','MONTH','DAY_OF_WEEK','HOUR','Lat','Long','Day','Night']]"
   ]
  },
  {
   "cell_type": "code",
   "execution_count": 244,
   "metadata": {},
   "outputs": [
    {
     "data": {
      "text/html": [
       "<table>\n",
       "<thead>\n",
       "<tr><th>C1                             </th></tr>\n",
       "</thead>\n",
       "<tbody>\n",
       "<tr><td>Drug Violation                 </td></tr>\n",
       "<tr><td>Investigate Person             </td></tr>\n",
       "<tr><td>Investigate Property           </td></tr>\n",
       "<tr><td>Larceny                        </td></tr>\n",
       "<tr><td>Larceny From Motor Vehicle     </td></tr>\n",
       "<tr><td>Medical Assistance             </td></tr>\n",
       "<tr><td>Motor Vehicle Accident Response</td></tr>\n",
       "<tr><td>Other                          </td></tr>\n",
       "<tr><td>Simple Assault                 </td></tr>\n",
       "<tr><td>Towed                          </td></tr>\n",
       "</tbody>\n",
       "</table>"
      ]
     },
     "metadata": {},
     "output_type": "display_data"
    },
    {
     "data": {
      "text/plain": []
     },
     "execution_count": 244,
     "metadata": {},
     "output_type": "execute_result"
    }
   ],
   "source": [
    "hf_y = hf[['OFFENSE_CODE_GROUP']]\n",
    "hf_y.unique()"
   ]
  },
  {
   "cell_type": "code",
   "execution_count": 245,
   "metadata": {
    "collapsed": true
   },
   "outputs": [],
   "source": [
    "covtype_X = hf.col_names[:-1]     #last column is Cover_Type, our desired response variable \n",
    "covtype_y = hf.col_names[-1]"
   ]
  },
  {
   "cell_type": "code",
   "execution_count": 246,
   "metadata": {},
   "outputs": [
    {
     "data": {
      "text/plain": [
       "['DISTRICT',\n",
       " 'REPORTING_AREA',\n",
       " 'MONTH',\n",
       " 'DAY_OF_WEEK',\n",
       " 'HOUR',\n",
       " 'Lat',\n",
       " 'Long',\n",
       " 'Day',\n",
       " 'Night']"
      ]
     },
     "execution_count": 246,
     "metadata": {},
     "output_type": "execute_result"
    }
   ],
   "source": [
    "covtype_X"
   ]
  },
  {
   "cell_type": "code",
   "execution_count": 247,
   "metadata": {
    "collapsed": true
   },
   "outputs": [],
   "source": [
    "train, valid, test = hf.split_frame([0.7, 0.15], seed=1234)"
   ]
  },
  {
   "cell_type": "code",
   "execution_count": 248,
   "metadata": {
    "collapsed": true
   },
   "outputs": [],
   "source": [
    "from h2o.estimators.glm import H2OGeneralizedLinearEstimator"
   ]
  },
  {
   "cell_type": "code",
   "execution_count": 249,
   "metadata": {
    "collapsed": true
   },
   "outputs": [],
   "source": [
    "glm_model = H2OGeneralizedLinearEstimator(family='multinomial', model_id='glm_model', lambda_search=True)"
   ]
  },
  {
   "cell_type": "code",
   "execution_count": 250,
   "metadata": {
    "collapsed": true
   },
   "outputs": [],
   "source": [
    "#Prepare predictors and response columns\n",
    "predictors = hf.col_names[:-1]     #last column is response, our desired response variable \n",
    "response = hf.col_names[-1]"
   ]
  },
  {
   "cell_type": "code",
   "execution_count": 251,
   "metadata": {},
   "outputs": [
    {
     "name": "stdout",
     "output_type": "stream",
     "text": [
      "glm Model Build progress: |███████████████████████████████████████████████| 100%\n"
     ]
    }
   ],
   "source": [
    "glm_model.train(predictors, response, training_frame=train, validation_frame=valid)"
   ]
  },
  {
   "cell_type": "code",
   "execution_count": 252,
   "metadata": {},
   "outputs": [
    {
     "name": "stdout",
     "output_type": "stream",
     "text": [
      "Model Details\n",
      "=============\n",
      "H2OGeneralizedLinearEstimator :  Generalized Linear Modeling\n",
      "Model Key:  glm_model\n",
      "\n",
      "\n",
      "ModelMetricsMultinomialGLM: glm\n",
      "** Reported on train data. **\n",
      "\n",
      "MSE: 0.7992301787018168\n",
      "RMSE: 0.8939967442344613\n",
      "\n",
      "ModelMetricsMultinomialGLM: glm\n",
      "** Reported on validation data. **\n",
      "\n",
      "MSE: 0.7991695863382985\n",
      "RMSE: 0.8939628551222352\n",
      "Scoring History: \n"
     ]
    },
    {
     "data": {
      "text/html": [
       "<div style=\"overflow:auto\"><table style=\"width:50%\"><tr><td><b></b></td>\n",
       "<td><b>timestamp</b></td>\n",
       "<td><b>duration</b></td>\n",
       "<td><b>iteration</b></td>\n",
       "<td><b>lambda</b></td>\n",
       "<td><b>predictors</b></td>\n",
       "<td><b>deviance_train</b></td>\n",
       "<td><b>deviance_test</b></td></tr>\n",
       "<tr><td></td>\n",
       "<td>2018-10-14 17:26:49</td>\n",
       "<td> 0.000 sec</td>\n",
       "<td>1</td>\n",
       "<td>.13E0</td>\n",
       "<td>12</td>\n",
       "<td>4.8242723</td>\n",
       "<td>4.8259976</td></tr>\n",
       "<tr><td></td>\n",
       "<td>2018-10-14 17:26:51</td>\n",
       "<td> 2.383 sec</td>\n",
       "<td>2</td>\n",
       "<td>.12E0</td>\n",
       "<td>14</td>\n",
       "<td>4.8199705</td>\n",
       "<td>4.8218605</td></tr>\n",
       "<tr><td></td>\n",
       "<td>2018-10-14 17:26:54</td>\n",
       "<td> 4.549 sec</td>\n",
       "<td>3</td>\n",
       "<td>.11E0</td>\n",
       "<td>14</td>\n",
       "<td>4.8165648</td>\n",
       "<td>4.8185892</td></tr>\n",
       "<tr><td></td>\n",
       "<td>2018-10-14 17:26:56</td>\n",
       "<td> 6.493 sec</td>\n",
       "<td>4</td>\n",
       "<td>.1E0</td>\n",
       "<td>14</td>\n",
       "<td>4.8137455</td>\n",
       "<td>4.8158865</td></tr>\n",
       "<tr><td></td>\n",
       "<td>2018-10-14 17:26:57</td>\n",
       "<td> 8.323 sec</td>\n",
       "<td>5</td>\n",
       "<td>.91E-1</td>\n",
       "<td>14</td>\n",
       "<td>4.8114083</td>\n",
       "<td>4.8136509</td></tr>\n",
       "<tr><td>---</td>\n",
       "<td>---</td>\n",
       "<td>---</td>\n",
       "<td>---</td>\n",
       "<td>---</td>\n",
       "<td>---</td>\n",
       "<td>---</td>\n",
       "<td>---</td></tr>\n",
       "<tr><td></td>\n",
       "<td>2018-10-14 17:28:36</td>\n",
       "<td> 1 min 47.239 sec</td>\n",
       "<td>43</td>\n",
       "<td>.26E-2</td>\n",
       "<td>99</td>\n",
       "<td>4.7136223</td>\n",
       "<td>4.7131530</td></tr>\n",
       "<tr><td></td>\n",
       "<td>2018-10-14 17:28:39</td>\n",
       "<td> 1 min 50.074 sec</td>\n",
       "<td>44</td>\n",
       "<td>.24E-2</td>\n",
       "<td>100</td>\n",
       "<td>4.7132777</td>\n",
       "<td>4.7127816</td></tr>\n",
       "<tr><td></td>\n",
       "<td>2018-10-14 17:28:42</td>\n",
       "<td> 1 min 53.186 sec</td>\n",
       "<td>45</td>\n",
       "<td>.22E-2</td>\n",
       "<td>104</td>\n",
       "<td>4.7129844</td>\n",
       "<td>4.7124603</td></tr>\n",
       "<tr><td></td>\n",
       "<td>2018-10-14 17:28:45</td>\n",
       "<td> 1 min 56.317 sec</td>\n",
       "<td>46</td>\n",
       "<td>.2E-2</td>\n",
       "<td>104</td>\n",
       "<td>4.7127354</td>\n",
       "<td>4.7121809</td></tr>\n",
       "<tr><td></td>\n",
       "<td>2018-10-14 17:28:49</td>\n",
       "<td> 1 min 59.498 sec</td>\n",
       "<td>47</td>\n",
       "<td>.18E-2</td>\n",
       "<td>106</td>\n",
       "<td>4.7125245</td>\n",
       "<td>4.7119420</td></tr></table></div>"
      ],
      "text/plain": [
       "     timestamp            duration          iteration    lambda    predictors    deviance_train      deviance_test\n",
       "---  -------------------  ----------------  -----------  --------  ------------  ------------------  -----------------\n",
       "     2018-10-14 17:26:49  0.000 sec         1            .13E0     12            4.824272340460561   4.825997568535765\n",
       "     2018-10-14 17:26:51  2.383 sec         2            .12E0     14            4.819970450663356   4.821860534973064\n",
       "     2018-10-14 17:26:54  4.549 sec         3            .11E0     14            4.816564809193751   4.818589242879638\n",
       "     2018-10-14 17:26:56  6.493 sec         4            .1E0      14            4.813745453869372   4.815886547043103\n",
       "     2018-10-14 17:26:57  8.323 sec         5            .91E-1    14            4.811408315195897   4.813650875342784\n",
       "---  ---                  ---               ---          ---       ---           ---                 ---\n",
       "     2018-10-14 17:28:36  1 min 47.239 sec  43           .26E-2    99            4.713622250189576   4.713153023041671\n",
       "     2018-10-14 17:28:39  1 min 50.074 sec  44           .24E-2    100           4.7132777387813345  4.712781589936045\n",
       "     2018-10-14 17:28:42  1 min 53.186 sec  45           .22E-2    104           4.71298444819864    4.712460349627934\n",
       "     2018-10-14 17:28:45  1 min 56.317 sec  46           .2E-2     104           4.712735405989264   4.71218089158216\n",
       "     2018-10-14 17:28:49  1 min 59.498 sec  47           .18E-2    106           4.712524475108193   4.711942002475568"
      ]
     },
     "metadata": {},
     "output_type": "display_data"
    },
    {
     "name": "stdout",
     "output_type": "stream",
     "text": [
      "\n",
      "See the whole table with table.as_data_frame()\n"
     ]
    },
    {
     "data": {
      "text/plain": []
     },
     "execution_count": 252,
     "metadata": {},
     "output_type": "execute_result"
    }
   ],
   "source": [
    "glm_model\n"
   ]
  },
  {
   "cell_type": "code",
   "execution_count": 253,
   "metadata": {},
   "outputs": [
    {
     "name": "stdout",
     "output_type": "stream",
     "text": [
      "Top-10 Hit Ratios: \n"
     ]
    },
    {
     "data": {
      "text/html": [
       "<div style=\"overflow:auto\"><table style=\"width:50%\"><tr><td><b>k</b></td>\n",
       "<td><b>hit_ratio</b></td></tr>\n",
       "<tr><td>1</td>\n",
       "<td>0.1913983</td></tr>\n",
       "<tr><td>2</td>\n",
       "<td>0.3162337</td></tr>\n",
       "<tr><td>3</td>\n",
       "<td>0.4274213</td></tr>\n",
       "<tr><td>4</td>\n",
       "<td>0.5244224</td></tr>\n",
       "<tr><td>5</td>\n",
       "<td>0.6124447</td></tr>\n",
       "<tr><td>6</td>\n",
       "<td>0.6930146</td></tr>\n",
       "<tr><td>7</td>\n",
       "<td>0.7582306</td></tr>\n",
       "<tr><td>8</td>\n",
       "<td>0.8228781</td></tr>\n",
       "<tr><td>9</td>\n",
       "<td>0.8768706</td></tr>\n",
       "<tr><td>10</td>\n",
       "<td>0.9242787</td></tr></table></div>"
      ],
      "text/plain": [
       "k    hit_ratio\n",
       "---  -----------\n",
       "1    0.191398\n",
       "2    0.316234\n",
       "3    0.427421\n",
       "4    0.524422\n",
       "5    0.612445\n",
       "6    0.693015\n",
       "7    0.758231\n",
       "8    0.822878\n",
       "9    0.876871\n",
       "10   0.924279"
      ]
     },
     "metadata": {},
     "output_type": "display_data"
    },
    {
     "data": {
      "text/plain": []
     },
     "execution_count": 253,
     "metadata": {},
     "output_type": "execute_result"
    }
   ],
   "source": [
    "glm_model.hit_ratio_table(valid=True)\n"
   ]
  },
  {
   "cell_type": "code",
   "execution_count": 254,
   "metadata": {},
   "outputs": [
    {
     "name": "stdout",
     "output_type": "stream",
     "text": [
      "glm Model Build progress: |███████████████████████████████████████████████| 100%\n"
     ]
    }
   ],
   "source": [
    "glm_multi_v2 = H2OGeneralizedLinearEstimator(\n",
    "                    model_id='glm_v2',           \n",
    "                    family='multinomial',\n",
    "                    solver='L_BFGS',\n",
    "                    Lambda=0.0001                 #default value 0.001\n",
    ")\n",
    "glm_multi_v2.train(predictors, response, training_frame=train, validation_frame=valid)"
   ]
  },
  {
   "cell_type": "code",
   "execution_count": 255,
   "metadata": {},
   "outputs": [
    {
     "name": "stdout",
     "output_type": "stream",
     "text": [
      "Model Details\n",
      "=============\n",
      "H2OGeneralizedLinearEstimator :  Generalized Linear Modeling\n",
      "Model Key:  glm_v2\n",
      "\n",
      "\n",
      "ModelMetricsMultinomialGLM: glm\n",
      "** Reported on train data. **\n",
      "\n",
      "MSE: 0.7981007134206689\n",
      "RMSE: 0.8933648266081831\n",
      "\n",
      "ModelMetricsMultinomialGLM: glm\n",
      "** Reported on validation data. **\n",
      "\n",
      "MSE: 0.7979505451195682\n",
      "RMSE: 0.8932807761950149\n",
      "Scoring History: \n"
     ]
    },
    {
     "data": {
      "text/html": [
       "<div style=\"overflow:auto\"><table style=\"width:50%\"><tr><td><b></b></td>\n",
       "<td><b>timestamp</b></td>\n",
       "<td><b>duration</b></td>\n",
       "<td><b>iterations</b></td>\n",
       "<td><b>negative_log_likelihood</b></td>\n",
       "<td><b>objective</b></td></tr>\n",
       "<tr><td></td>\n",
       "<td>2018-10-14 17:32:41</td>\n",
       "<td> 0.000 sec</td>\n",
       "<td>0</td>\n",
       "<td>377834.5975687</td>\n",
       "<td>2.4121362</td></tr>\n",
       "<tr><td></td>\n",
       "<td>2018-10-14 17:32:42</td>\n",
       "<td> 0.234 sec</td>\n",
       "<td>1</td>\n",
       "<td>372617.2376513</td>\n",
       "<td>2.3788382</td></tr>\n",
       "<tr><td></td>\n",
       "<td>2018-10-14 17:32:42</td>\n",
       "<td> 0.386 sec</td>\n",
       "<td>2</td>\n",
       "<td>370187.7265104</td>\n",
       "<td>2.3633476</td></tr>\n",
       "<tr><td></td>\n",
       "<td>2018-10-14 17:32:42</td>\n",
       "<td> 0.558 sec</td>\n",
       "<td>3</td>\n",
       "<td>369546.6389416</td>\n",
       "<td>2.3592699</td></tr>\n",
       "<tr><td></td>\n",
       "<td>2018-10-14 17:32:42</td>\n",
       "<td> 0.806 sec</td>\n",
       "<td>4</td>\n",
       "<td>369316.2749930</td>\n",
       "<td>2.3578001</td></tr>\n",
       "<tr><td></td>\n",
       "<td>2018-10-14 17:32:42</td>\n",
       "<td> 0.969 sec</td>\n",
       "<td>5</td>\n",
       "<td>369118.1400910</td>\n",
       "<td>2.3565482</td></tr>\n",
       "<tr><td></td>\n",
       "<td>2018-10-14 17:32:43</td>\n",
       "<td> 1.069 sec</td>\n",
       "<td>6</td>\n",
       "<td>369049.8032510</td>\n",
       "<td>2.3561098</td></tr>\n",
       "<tr><td></td>\n",
       "<td>2018-10-14 17:32:43</td>\n",
       "<td> 1.148 sec</td>\n",
       "<td>7</td>\n",
       "<td>369015.8417992</td>\n",
       "<td>2.3558979</td></tr></table></div>"
      ],
      "text/plain": [
       "    timestamp            duration    iterations    negative_log_likelihood    objective\n",
       "--  -------------------  ----------  ------------  -------------------------  -----------\n",
       "    2018-10-14 17:32:41  0.000 sec   0             377835                     2.41214\n",
       "    2018-10-14 17:32:42  0.234 sec   1             372617                     2.37884\n",
       "    2018-10-14 17:32:42  0.386 sec   2             370188                     2.36335\n",
       "    2018-10-14 17:32:42  0.558 sec   3             369547                     2.35927\n",
       "    2018-10-14 17:32:42  0.806 sec   4             369316                     2.3578\n",
       "    2018-10-14 17:32:42  0.969 sec   5             369118                     2.35655\n",
       "    2018-10-14 17:32:43  1.069 sec   6             369050                     2.35611\n",
       "    2018-10-14 17:32:43  1.148 sec   7             369016                     2.3559"
      ]
     },
     "metadata": {},
     "output_type": "display_data"
    },
    {
     "data": {
      "text/plain": []
     },
     "execution_count": 255,
     "metadata": {},
     "output_type": "execute_result"
    }
   ],
   "source": [
    "glm_multi_v2"
   ]
  },
  {
   "cell_type": "code",
   "execution_count": 256,
   "metadata": {},
   "outputs": [
    {
     "name": "stdout",
     "output_type": "stream",
     "text": [
      "Top-10 Hit Ratios: \n"
     ]
    },
    {
     "data": {
      "text/html": [
       "<div style=\"overflow:auto\"><table style=\"width:50%\"><tr><td><b>k</b></td>\n",
       "<td><b>hit_ratio</b></td></tr>\n",
       "<tr><td>1</td>\n",
       "<td>0.1899916</td></tr>\n",
       "<tr><td>2</td>\n",
       "<td>0.3169819</td></tr>\n",
       "<tr><td>3</td>\n",
       "<td>0.4310427</td></tr>\n",
       "<tr><td>4</td>\n",
       "<td>0.5263379</td></tr>\n",
       "<tr><td>5</td>\n",
       "<td>0.6141207</td></tr>\n",
       "<tr><td>6</td>\n",
       "<td>0.6930744</td></tr>\n",
       "<tr><td>7</td>\n",
       "<td>0.7590387</td></tr>\n",
       "<tr><td>8</td>\n",
       "<td>0.8220999</td></tr>\n",
       "<tr><td>9</td>\n",
       "<td>0.8772298</td></tr>\n",
       "<tr><td>10</td>\n",
       "<td>0.9239495</td></tr></table></div>"
      ],
      "text/plain": [
       "k    hit_ratio\n",
       "---  -----------\n",
       "1    0.189992\n",
       "2    0.316982\n",
       "3    0.431043\n",
       "4    0.526338\n",
       "5    0.614121\n",
       "6    0.693074\n",
       "7    0.759039\n",
       "8    0.8221\n",
       "9    0.87723\n",
       "10   0.92395"
      ]
     },
     "metadata": {},
     "output_type": "display_data"
    },
    {
     "data": {
      "text/plain": []
     },
     "execution_count": 256,
     "metadata": {},
     "output_type": "execute_result"
    }
   ],
   "source": [
    "glm_multi_v2.hit_ratio_table(valid=True)\n"
   ]
  },
  {
   "cell_type": "code",
   "execution_count": null,
   "metadata": {
    "collapsed": true
   },
   "outputs": [],
   "source": []
  },
  {
   "cell_type": "code",
   "execution_count": null,
   "metadata": {
    "collapsed": true
   },
   "outputs": [],
   "source": []
  },
  {
   "cell_type": "code",
   "execution_count": null,
   "metadata": {
    "collapsed": true
   },
   "outputs": [],
   "source": []
  }
 ],
 "metadata": {
  "kernelspec": {
   "display_name": "Python 3",
   "language": "python",
   "name": "python3"
  },
  "language_info": {
   "codemirror_mode": {
    "name": "ipython",
    "version": 3
   },
   "file_extension": ".py",
   "mimetype": "text/x-python",
   "name": "python",
   "nbconvert_exporter": "python",
   "pygments_lexer": "ipython3",
   "version": "3.6.1"
  }
 },
 "nbformat": 4,
 "nbformat_minor": 2
}
